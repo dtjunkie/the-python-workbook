{
 "cells": [
  {
   "cell_type": "markdown",
   "id": "5934b90c",
   "metadata": {},
   "source": [
    "# Repetitions (Exercises, Part 1)"
   ]
  },
  {
   "cell_type": "markdown",
   "id": "37265c25",
   "metadata": {},
   "source": [
    "## Exercise 63 - Average\n",
    "\n",
    "In this exercise you will create a program that computes the average of a collection\n",
    "of values entered by the user. The user will enter 0 as a sentinel value to indicate\n",
    "that no further values will be provided. Your program should display an appropriate\n",
    "error message if the first value entered by the user is 0 (26 lines).\n",
    "\n",
    "> **Hint: Because the 0 marks the end of the input it should not be included in the\n",
    "average.**"
   ]
  },
  {
   "cell_type": "code",
   "execution_count": 50,
   "id": "279b50e3",
   "metadata": {},
   "outputs": [
    {
     "name": "stdout",
     "output_type": "stream",
     "text": [
      "Enter a number: 5\n",
      "Enter a number: 0\n",
      "The average is: 5.0\n"
     ]
    }
   ],
   "source": [
    "# Asks the user to input a number\n",
    "num = int(input(\"Enter a number: \"))\n",
    "\n",
    "# Created a variable for the sum of the inputed numbers(x) and the number of inputed numbers(n)\n",
    "x = 0\n",
    "n = 0\n",
    "\n",
    "# Checks if the first value is 0\n",
    "if num == 0:\n",
    "    print(\"First value should be a non-zero value.\")\n",
    "else:\n",
    "    # Loops the execution of the program while the user enter a non-zero value\n",
    "    while num != 0:\n",
    "        x += num\n",
    "        n +=1\n",
    "        num = int(input(\"Enter a number: \"))\n",
    "    # Calculates the average of the inputed numbers\n",
    "    average = x / n\n",
    "    \n",
    "    # Displays the average of the inputed numbers\n",
    "    print(f\"The average is: {average}\")"
   ]
  },
  {
   "cell_type": "markdown",
   "id": "430cbb40",
   "metadata": {},
   "source": [
    "## Exercise 64 - Discount Table\n",
    "\n",
    "A particular retailer is having a 60 percent off sale on a variety of discontinued\n",
    "products. The retailer would like to help its customers determine the reduced price\n",
    "of the merchandise by having a printed discount table on the shelf that shows the\n",
    "original prices and the prices after the discount has been applied. Write a program that\n",
    "uses a loop to generate this table, showing the original price, the discount amount,\n",
    "and the new price for purchases of $\\$4.95 $, $\\$9.95 $, $\\$14.95 $, $\\$19.95 $ and $\\$24.95 $. Ensure\n",
    "that the discount amounts and the new prices are rounded to 2 decimal places when\n",
    "they are displayed (18 lines)."
   ]
  },
  {
   "cell_type": "code",
   "execution_count": 8,
   "id": "01aa474a",
   "metadata": {},
   "outputs": [
    {
     "name": "stdout",
     "output_type": "stream",
     "text": [
      "Original Price \t  Discount Amount \t New Price\n",
      "      4.95            2.97                 1.98\n",
      "      9.95            5.97                 3.98\n",
      "     14.95            8.97                 5.98\n",
      "     19.95           11.97                 7.98\n",
      "     24.95           14.97                 9.98\n"
     ]
    }
   ],
   "source": [
    "# Set initial price at 4.95\n",
    "price = 4.95\n",
    "\n",
    "#Displays the table heading\n",
    "print (\"Original Price \\t  Discount Amount \\t New Price\")\n",
    "\n",
    "# Loops the execution while the price is less then 29.95\n",
    "while price <= 24.95:\n",
    "    disc_amount = price * .60 # Calculates the discounted amount\n",
    "    new_price = price - disc_amount # Calculates the new price\n",
    "    print(\"%10.2f %15.2f %20.2f\" % (price, disc_amount, new_price)) # Displays the discount information\n",
    "    price += 5 # Adds 5 to the original price for the next loop"
   ]
  },
  {
   "cell_type": "markdown",
   "id": "10495d35",
   "metadata": {},
   "source": [
    "## Exercise 65 - Temperature Conversion Table\n",
    "\n",
    "Write a program that displays a temperature conversion table for degrees Celsius and\n",
    "degrees Fahrenheit. The table should include rows for all temperatures between 0\n",
    "and 100 degrees Celsius that are multiples of 10 degrees Celsius. Include appropriate\n",
    "headings on your columns. The formula for converting between degrees Celsius and\n",
    "degrees Fahrenheit can be found on the Internet (22 lines)."
   ]
  },
  {
   "cell_type": "code",
   "execution_count": 56,
   "id": "3482ef9d",
   "metadata": {},
   "outputs": [
    {
     "name": "stdout",
     "output_type": "stream",
     "text": [
      "--------------------------------------------------------------------\n",
      "| Temperature (in deg. Celsius) | Temperature (in deg. Fahrenheit) |\n",
      "|------------------------------------------------------------------|\n",
      "|               0 \t\t|                   32 \t\t   |\n",
      "|-------------------------------|----------------------------------|\n",
      "|              10 \t\t|                   50 \t\t   |\n",
      "|-------------------------------|----------------------------------|\n",
      "|              20 \t\t|                   68 \t\t   |\n",
      "|-------------------------------|----------------------------------|\n",
      "|              30 \t\t|                   86 \t\t   |\n",
      "|-------------------------------|----------------------------------|\n",
      "|              40 \t\t|                  104 \t\t   |\n",
      "|-------------------------------|----------------------------------|\n",
      "|              50 \t\t|                  122 \t\t   |\n",
      "|-------------------------------|----------------------------------|\n",
      "|              60 \t\t|                  140 \t\t   |\n",
      "|-------------------------------|----------------------------------|\n",
      "|              70 \t\t|                  158 \t\t   |\n",
      "|-------------------------------|----------------------------------|\n",
      "|              80 \t\t|                  176 \t\t   |\n",
      "|-------------------------------|----------------------------------|\n",
      "|              90 \t\t|                  194 \t\t   |\n",
      "|-------------------------------|----------------------------------|\n",
      "|             100 \t\t|                  212 \t\t   |\n",
      "--------------------------------------------------------------------\n"
     ]
    }
   ],
   "source": [
    "# Generates the temperature conversion table  \n",
    "\n",
    "# Prints the top line of the table\n",
    "print(\"-\" * 68) \n",
    "\n",
    "# Prints the table heading\n",
    "print(\"| Temperature (in deg. Celsius) | Temperature (in deg. Fahrenheit) |\")\n",
    "\n",
    "# Prints the dividing line between the table heading and table body\n",
    "print(\"|\" + \"-\" * 66 + \"|\")\n",
    "\n",
    "# Calculates and displays temperatures in celsius and fahrenheit\n",
    "for i in range (0,101,10):\n",
    "    deg_F = i * 1.8 + 32 \n",
    "    print(\"| %15d \\t\\t| %20d \\t\\t   |\" % (i, deg_F))\n",
    "    \n",
    "    # Prints a divider bet. the values. If \"i\" reaches 100, it will print the bottom line of the table\n",
    "    if i < 100:\n",
    "        print(\"|\" + \"-\" * 31 + \"|\" + \"-\" * 34 + \"|\")\n",
    "    else:\n",
    "        print(\"-\" * 68)"
   ]
  },
  {
   "cell_type": "markdown",
   "id": "0816cb81",
   "metadata": {},
   "source": [
    "## Exercise 66 - No More Pennies\n",
    "\n",
    "February 4, 2013 was the last day that pennies were distributed by the Royal Canadian\n",
    "Mint. Now that pennies have been phased out retailers must adjust totals so that they\n",
    "are multiples of 5 cents when they are paid for with cash (credit card and debit card\n",
    "transactions continue to be charged to the penny). While retailers have some freedom\n",
    "in how they do this, most choose to round to the closest nickel.\n",
    "Write a program that reads prices from the user until a blank line is entered.\n",
    "Display the total cost of all the entered items on one line, followed by the amount\n",
    "due if the customer pays with cash on a second line. The amount due for a cash\n",
    "payment should be rounded to the nearest nickel. One way to compute the cash\n",
    "payment amount is to begin by determining how many pennies would be needed to\n",
    "pay the total. Then compute the remainder when this number of pennies is divided\n",
    "by 5. Finally, adjust the total down if the remainder is less than 2.5. Otherwise adjust\n",
    "the total up (39 lines)."
   ]
  },
  {
   "cell_type": "code",
   "execution_count": 14,
   "id": "22a4c5b6",
   "metadata": {},
   "outputs": [
    {
     "name": "stdout",
     "output_type": "stream",
     "text": [
      "Enter the price of the item (blank to quit): 45.78\n",
      "Enter the price of the item (blank to quit): 46.43\n",
      "Enter the price of the item (blank to quit): \n",
      "Total Exact Cost Payable: $92.21\n",
      "Total Cash Amount Payable: $92.20\n"
     ]
    }
   ],
   "source": [
    "# Variable for no. of pennies per nickel and cent equivalent of nickel\n",
    "pennies_per_nickel = 5\n",
    "nickel = 0.05\n",
    "\n",
    "# Tracks the total cost of all the items\n",
    "total = 0.00\n",
    "\n",
    "# Reads the price of the first item\n",
    "price = input(\"Enter the price of the item (blank to quit): \")\n",
    "\n",
    "# Continue reading items until the user entered a blank line\n",
    "while price != \"\":\n",
    "    # Adds the cost of the item into the total\n",
    "    total += float(price)\n",
    "    # Reads the price of the next item\n",
    "    price = input(\"Enter the price of the item (blank to quit): \")\n",
    "\n",
    "# Displays the total cost of all items\n",
    "print(\"Total Exact Cost Payable: $%.2f\" % (total))\n",
    "\n",
    "# Compute the no. of pennies that would be left if the total was paid in nickels\n",
    "pennies_left = total * 100 % pennies_per_nickel\n",
    "\n",
    "# If the pennies left is less than half the no. of pennies per nickel, then it will be rounded down by subtracting \n",
    "# the remaining pennies from the total\n",
    "if pennies_left < pennies_per_nickel/2:\n",
    "    cash_total = total - (pennies_left / 100)\n",
    "# Otherwise, we will add a nickel and then subtract the remaining pennies\n",
    "else:\n",
    "    cash_total = total + nickel - (pennies_left / 100)\n",
    "    \n",
    "print(\"Total Cash Amount Payable: $%.2f\" % (cash_total))"
   ]
  },
  {
   "cell_type": "markdown",
   "id": "bfb27f4c",
   "metadata": {},
   "source": [
    "## Exercise 67 - Compute the Perimeter of a Polygon\n",
    "\n",
    "Write a program that computes the perimeter of a polygon. Begin by reading the\n",
    "x and y coordinates for the first point on the perimeter of the polygon from the\n",
    "user. Then continue reading pairs of values until the user enters a blank line for the\n",
    "x-coordinate. Each time you read an additional coordinate you should compute the\n",
    "distance to the previous point and add it to the perimeter. When a blank line is entered\n",
    "for the x-coordinate your program should add the distance from the last point back\n",
    "to the first point to the perimeter. Then the perimeter should be displayed. Sample\n",
    "input and output values are shown below. The input values entered by the user are\n",
    "shown in bold (42 lines).\n",
    "\n",
    "`Enter the first x-coordinate: 0\n",
    " Enter the first y-coordinate: 0\n",
    " Enter the next x-coordinate (blank to quit): 1\n",
    " Enter the next y-coordinate: 0\n",
    " Enter the next x-coordinate (blank to quit): 0\n",
    " Enter the next y-coordinate: 1\n",
    " Enter the next x-coordinate (blank to quit):\n",
    " The perimeter of that polygon is 3.414213562373095`"
   ]
  },
  {
   "cell_type": "code",
   "execution_count": 22,
   "id": "7a90ae97",
   "metadata": {},
   "outputs": [
    {
     "name": "stdout",
     "output_type": "stream",
     "text": [
      "Enter the first x-coordinate: 0\n",
      "Enter the first y-coordinate: 0\n",
      "Enter the next x-coordinate (blank to quit): 1\n",
      "Enter the first y-coordinate: 0\n",
      "Enter the next x-coordinate (blank to quit): 0\n",
      "Enter the first y-coordinate: 1\n",
      "Enter the next x-coordinate (blank to quit): \n",
      "Perimeter of the polygon: 3.414213562373095\n"
     ]
    }
   ],
   "source": [
    "# Imports the square root function of the math module\n",
    "from math import sqrt\n",
    "\n",
    "#Tracks the total perimeter of the polygon\n",
    "perimeter = 0\n",
    "\n",
    "# Reads the first x and y coordinates from the user\n",
    "x_first = float(input(\"Enter the first x-coordinate: \"))\n",
    "y_first = float(input(\"Enter the first y-coordinate: \"))\n",
    "\n",
    "# Provide initial values for prev_x and prev_y\n",
    "prev_x = x_first\n",
    "prev_y = y_first\n",
    "\n",
    "# Reads the next x coordinate from the user\n",
    "line = input(\"Enter the next x-coordinate (blank to quit): \")\n",
    "\n",
    "# Continues to read the entered x and y coordinates until the user enters a blank line\n",
    "while line != \"\":\n",
    "    \n",
    "    # Converts the x_next value into float and reads the next y coordinate from the user\n",
    "    x_next = float(line)\n",
    "    y_next = float(input(\"Enter the first y-coordinate: \"))\n",
    "    \n",
    "    # Calculates the line distance bet. two points then it will be added to the perimeter\n",
    "    line_dist = sqrt(((prev_x - x_next) ** 2) + ((prev_y - y_next) ** 2))\n",
    "    perimeter += line_dist\n",
    "    \n",
    "    # Set-up prev_x and prev_y for the next loop iteration\n",
    "    prev_x = x_next\n",
    "    prev_y = y_next\n",
    "    \n",
    "    # Reads the next x coordinate from the user\n",
    "    line = input(\"Enter the next x-coordinate (blank to quit): \")\n",
    "    \n",
    "# Calculates the line distance bet. two points then it will be added to the perimeter\n",
    "line_dist = sqrt(((x_first - x_next) ** 2) + ((y_first - y_next) ** 2))\n",
    "perimeter += line_dist\n",
    "\n",
    "# Display the perimeter of the polygon\n",
    "print(f\"Perimeter of the polygon: {perimeter}\")"
   ]
  },
  {
   "cell_type": "markdown",
   "id": "e17301ea",
   "metadata": {},
   "source": [
    "## Exercise 68 -  Compute a Grade Point Average\n",
    "\n",
    "Exercise 52 includes a table that shows the conversion from letter grades to grade\n",
    "points at a particular academic institution. In this exercise you will compute the\n",
    "grade point average of an arbitrary number of letter grades entered by the user. The\n",
    "user will enter a blank line to indicate that all of the grades have been provided. For\n",
    "example, if the user enters A, followed by C+, followed by B, followed by a blank\n",
    "line then your program should report a grade point average of 3.1.\n",
    "You may find your solution to Exercise 52 helpful when completing this exercise.\n",
    "Your program does not need to do any error checking. It can assume that each value\n",
    "entered by the user will always be a valid letter grade or a blank line (62 lines)."
   ]
  },
  {
   "cell_type": "code",
   "execution_count": 4,
   "id": "2cb85bf6",
   "metadata": {},
   "outputs": [
    {
     "name": "stdout",
     "output_type": "stream",
     "text": [
      "Enter the letter grade (blank to quit):D\n",
      "Enter the next letter grade (blank to quit):F\n",
      "Enter the next letter grade (blank to quit):A+\n",
      "Enter the next letter grade (blank to quit):B-\n",
      "Enter the next letter grade (blank to quit):\n",
      "Your Grade Point Average(GPA) is: 1.9\n"
     ]
    }
   ],
   "source": [
    "# Reads the first letter grade from the user\n",
    "letter_grade = input(\"Enter the letter grade (blank to quit):\")\n",
    "\n",
    "# Tracks the total GPA and the number of user inputs\n",
    "total_grade = 0\n",
    "n = 0\n",
    "\n",
    "# Continues to read the entered letter grades until the user enters a blank line\n",
    "while letter_grade != \"\":\n",
    "    \n",
    "    # Decides which number grade will be used based on the user's input\n",
    "    if letter_grade == \"A+\" or letter_grade == \"A\":\n",
    "        number_grade = 4.0\n",
    "    elif letter_grade == \"A-\":\n",
    "        number_grade = 3.7\n",
    "    elif letter_grade == \"B+\":\n",
    "        number_grade = 3.3\n",
    "    elif letter_grade == \"B\":\n",
    "        number_grade = 3.0\n",
    "    elif letter_grade == \"B-\":\n",
    "        number_grade = 2.7\n",
    "    elif letter_grade == \"C+\":\n",
    "        number_grade = 2.3\n",
    "    elif letter_grade == \"C\":\n",
    "        number_grade = 2.0\n",
    "    elif letter_grade == \"C-\":\n",
    "        number_grade = 1.7\n",
    "    elif letter_grade == \"D+\":\n",
    "        number_grade = 1.3\n",
    "    elif letter_grade == \"D\":\n",
    "        number_grade = 1.0\n",
    "    elif letter_grade == \"F\":\n",
    "        number_grade = 0\n",
    "        \n",
    "    # Adds the number grade to the total grade\n",
    "    total_grade += number_grade\n",
    "    \n",
    "    # Adds the number of entered values by 1\n",
    "    n += 1\n",
    "    \n",
    "    # Reads the next letter grade from the user\n",
    "    letter_grade = input(\"Enter the next letter grade (blank to quit):\")\n",
    "    \n",
    "# Calculates the grade point average\n",
    "gpa = total_grade / n\n",
    "\n",
    "# Displays the grade point average\n",
    "print(\"Your Grade Point Average(GPA) is: %.1f\" % (gpa))\n",
    "    "
   ]
  },
  {
   "cell_type": "markdown",
   "id": "d3afff51",
   "metadata": {},
   "source": [
    "## Exercise 69: Admission Price\n",
    "\n",
    "A particular zoo determines the price of admission based on the age of the guest.\n",
    "Guests 2 years of age and less are admitted without charge. Children between 3 and\n",
    "12 years of age cost $\\$14.00 $. Seniors aged 65 years and over cost $\\$18.00 $. Admission\n",
    "for all other guests is $\\$23.00 $.\n",
    "Create a program that begins by reading the ages of all of the guests in a group\n",
    "from the user, with one age entered on each line. The user will enter a blank line to\n",
    "indicate that there are no more guests in the group. Then your program should display\n",
    "the admission cost for the group with an appropriate message. The cost should be\n",
    "displayed using two decimal places (38 lines)."
   ]
  },
  {
   "cell_type": "code",
   "execution_count": 10,
   "id": "588fa50a",
   "metadata": {},
   "outputs": [
    {
     "name": "stdout",
     "output_type": "stream",
     "text": [
      "Enter the age of the first guest (blank to quit): 5\n",
      "Enter the age of the guest (blank to quit): 12\n",
      "Enter the age of the guest (blank to quit): 17\n",
      "Enter the age of the guest (blank to quit): 65\n",
      "Enter the age of the guest (blank to quit): \n",
      "The total admission price is: $ 69.00\n"
     ]
    }
   ],
   "source": [
    "# Reads the age of the first guest\n",
    "guest_age = input(\"Enter the age of the first guest (blank to quit): \")\n",
    "\n",
    "# Tracks the total admission cost of the group\n",
    "total_admission = 0.00\n",
    "\n",
    "# Continues to read the ages of the group until user enters a blank line\n",
    "while guest_age != \"\":\n",
    "    \n",
    "    # Decides which admission price will be used based on the user's input\n",
    "    if 0 <= int(guest_age) <= 2:\n",
    "        admission_price = 0.00\n",
    "    elif 3 <= int(guest_age) <= 12:\n",
    "        admission_price = 14.00\n",
    "    elif int(guest_age) >= 65:\n",
    "        admission_price = 18.00\n",
    "    else:\n",
    "        admission_price = 23.00\n",
    "        \n",
    "    # Adds the age admission price to the total admission price\n",
    "    total_admission += admission_price\n",
    "    \n",
    "    # Reads the age of the next guest\n",
    "    guest_age = input(\"Enter the age of the guest (blank to quit): \")\n",
    "    \n",
    "# Displays the total admission price\n",
    "print(\"The total admission price is: $ %.2f\" % (total_admission))"
   ]
  },
  {
   "cell_type": "markdown",
   "id": "2bf8747e",
   "metadata": {},
   "source": [
    "## Exercise 70 - Parity Bits\n",
    "\n",
    "A parity bit is a simple mechanism for detecting errors in data transmitted over an\n",
    "unreliable connection such as a telephone line. The basic idea is that an additional bit\n",
    "is transmitted after each group of 8 bits so that a single bit error in the transmission\n",
    "can be detected.\n",
    "Parity bits can be computed for either even parity or odd parity. If even parity\n",
    "is selected then the parity bit that is transmitted is chosen so that the total number\n",
    "of one bits transmitted (8 bits of data plus the parity bit) is even. When odd parity\n",
    "is selected the parity bit is chosen so that the total number of one bits transmitted\n",
    "is odd.\n",
    "Write a program that computes the parity bit for groups of 8 bits entered by the\n",
    "user using even parity. Your program should read strings containing 8 bits until the\n",
    "user enters a blank line. After each string is entered by the user your program should\n",
    "display a clear message indicating whether the parity bit should be 0 or 1. Display\n",
    "an appropriate error message if the user enters something other than 8 bits (27 lines).\n",
    "\n",
    "> **Hint: You should read the input from the user as a string. Then you can use\n",
    "the count method to help you determine the number of zeros and ones in the\n",
    "string. Information about the count method is available online.**"
   ]
  },
  {
   "cell_type": "code",
   "execution_count": 12,
   "id": "b43a7834",
   "metadata": {},
   "outputs": [
    {
     "name": "stdout",
     "output_type": "stream",
     "text": [
      "Enter eight bits (blank to quit): 01101010\n",
      "The parity bit is 0.\n",
      "Enter eight bits (blank to quit): 01110110\n",
      "The parity bit is 1.\n",
      "Enter eight bits (blank to quit): 0110\n",
      "Error: Length of the bits are less than or more than 8\n",
      "Enter eight bits (blank to quit): 0110101001\n",
      "Error: Length of the bits are less than or more than 8\n",
      "Enter eight bits (blank to quit): \n"
     ]
    }
   ],
   "source": [
    "# Reads the group of 8 bits from the user\n",
    "eight_bits = input(\"Enter eight bits (blank to quit): \")\n",
    "\n",
    "# Detects the next eight-bit string until the user enters a blank line\n",
    "while eight_bits != \"\":\n",
    "    \n",
    "    # Checks if the length of the entered bits are 8\n",
    "    if len(eight_bits) != 8:\n",
    "        print(\"Error: Length of the bits are less than or more than 8\")\n",
    "    else:\n",
    "        \n",
    "        # Checks if the number of 1s are even or odd and displays the appropriate message\n",
    "        if eight_bits.count(\"1\", 0, 7) % 2 == 0:\n",
    "            print(\"The parity bit is 0.\")\n",
    "        else:\n",
    "            print(\"The parity bit is 1.\")\n",
    "            \n",
    "    # Reads the next group of eight bits from the user\n",
    "    eight_bits = input(\"Enter eight bits (blank to quit): \")"
   ]
  },
  {
   "cell_type": "code",
   "execution_count": null,
   "id": "ef1b549c",
   "metadata": {},
   "outputs": [],
   "source": []
  }
 ],
 "metadata": {
  "kernelspec": {
   "display_name": "Python 3",
   "language": "python",
   "name": "python3"
  },
  "language_info": {
   "codemirror_mode": {
    "name": "ipython",
    "version": 3
   },
   "file_extension": ".py",
   "mimetype": "text/x-python",
   "name": "python",
   "nbconvert_exporter": "python",
   "pygments_lexer": "ipython3",
   "version": "3.8.8"
  }
 },
 "nbformat": 4,
 "nbformat_minor": 5
}
