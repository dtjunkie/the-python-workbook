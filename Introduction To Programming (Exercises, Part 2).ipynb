{
 "cells": [
  {
   "cell_type": "markdown",
   "id": "493d224f",
   "metadata": {},
   "source": [
    "# Introduction To Programming (Exercises, Part 2)"
   ]
  },
  {
   "cell_type": "markdown",
   "id": "ccf01d6f",
   "metadata": {},
   "source": [
    "## Exercise 11 - Fuel Efficiency"
   ]
  },
  {
   "cell_type": "markdown",
   "id": "104a7a38",
   "metadata": {},
   "source": [
    "In the United States, fuel efficiency for vehicles is normally expressed in miles-per-gallon\n",
    "(MPG). In Canada, fuel efficiency is normally expressed in liters-per-hundred\n",
    "kilometers (L/100 km). Use your research skills to determine how to convert from\n",
    "MPG to L/100 km. Then create a program that reads a value from the user in American\n",
    "units and displays the equivalent fuel efficiency in Canadian units (13 lines)."
   ]
  },
  {
   "cell_type": "code",
   "execution_count": 6,
   "id": "69b9ee35",
   "metadata": {},
   "outputs": [
    {
     "name": "stdout",
     "output_type": "stream",
     "text": [
      "Enter the vehicles' fuel efficiency (in miles-per-gallon):4.56705\n",
      "4.56705 mpg is equal to 1074.22 liters-per-hundred kilometers\n"
     ]
    }
   ],
   "source": [
    "# Asks the user to enter his/ her cars' fuel efficiency in miles-per-gallon\n",
    "mpg = float(input(\"Enter the vehicles' fuel efficiency (in miles-per-gallon):\"))\n",
    "\n",
    "# Converts the fuel efficiency into liters-per-hundred kilometers\n",
    "lphk = mpg * 235.21\n",
    "\n",
    "# Displays the fuel efficiency in liters-per-hundred kilometers\n",
    "print(mpg,\"mpg is equal to %.2f liters-per-hundred kilometers\" % (lphk))"
   ]
  },
  {
   "cell_type": "markdown",
   "id": "fc6473d8",
   "metadata": {},
   "source": [
    "## Exercise 12 - Distance Between Two Points on Earth"
   ]
  },
  {
   "cell_type": "markdown",
   "id": "854d9bdd",
   "metadata": {},
   "source": [
    "The surface of the Earth is curved, and the distance between degrees of longitude\n",
    "varies with latitude. As a result, finding the distance between two points on the surface\n",
    "of the Earth is more complicated than simply using the Pythagorean theorem.\n",
    "Let (t1, g1) and (t2, g2) be the latitude and longitude of two points on the Earth’s\n",
    "surface. The distance between these points, following the surface of the Earth, in\n",
    "kilometers is:\n",
    "\n",
    "distance = 6371.01 × arccos(sin(t1) × sin(t2) + cos(t1) × cos(t2) × cos(g1 − g2))\n",
    "\n",
    "**The value 6371.01 in the previous equation wasn’t selected at random. It is the\n",
    "average radius of the Earth in kilometers.**\n",
    "\n",
    "Create a program that allows the user to enter the latitude and longitude of two\n",
    "points on the Earth in degrees. Your program should display the distance between\n",
    "the points, following the surface of the earth, in kilometers.\n",
    "\n",
    "**Hint: Python’s trigonometric functions operate in radians. As a result, you will\n",
    "need to convert the user’s input from degrees to radians before computing the\n",
    "distance with the formula discussed previously. The math module contains a\n",
    "function named _radians_ which converts from degrees to radians.**\n",
    "\n",
    "(27 lines)"
   ]
  },
  {
   "cell_type": "code",
   "execution_count": 23,
   "id": "ff52ff1b",
   "metadata": {},
   "outputs": [
    {
     "name": "stdout",
     "output_type": "stream",
     "text": [
      "Enter the latitude of Point A (in degrees):19.11\n",
      "Enter the longitude of Point A (in degrees):121.18\n",
      "Enter the latitude of Point B (in degrees):5.52\n",
      "Enter the longitude of Point B (in degrees):125.43\n",
      "Point A: 19.11 deg. N, 121.18 deg. E\n",
      "Point B: 5.52 deg. N, 125.43 deg. E\n",
      "The distance between two points is: 1574.94 km.\n"
     ]
    }
   ],
   "source": [
    "# Imports the math module\n",
    "import math\n",
    "\n",
    "# Asks the user to input the latitude and longitude of Point A and Point B in degrees\n",
    "t1 = float(input(\"Enter the latitude of Point A (in degrees):\"))\n",
    "g1 = float(input(\"Enter the longitude of Point A (in degrees):\"))\n",
    "t2 = float(input(\"Enter the latitude of Point B (in degrees):\"))\n",
    "g2 = float(input(\"Enter the longitude of Point B (in degrees):\"))\n",
    "\n",
    "# Converts the input from degrees to radians\n",
    "t1_radians = t1 * 0.0174\n",
    "g1_radians = g1 * 0.0174\n",
    "t2_radians = t2 * 0.0174\n",
    "g2_radians = g2 * 0.0174\n",
    "\n",
    "# Calculates the distance of the two points\n",
    "distance = 6371.01 * acos(sin(t1_radians) * sin(t2_radians) + cos(t1_radians) * cos(t2_radians) * cos(g1_radians - g2_radians))\n",
    "\n",
    "# Displays the distance of the two points\n",
    "print(\"Point A:\",t1,\"deg. N,\",g1,\"deg. E\")\n",
    "print(\"Point B:\",t2,\"deg. N,\",g2,\"deg. E\")\n",
    "print(\"The distance between two points is: %.2f km.\" % (distance))"
   ]
  }
 ],
 "metadata": {
  "kernelspec": {
   "display_name": "Python 3 (ipykernel)",
   "language": "python",
   "name": "python3"
  },
  "language_info": {
   "codemirror_mode": {
    "name": "ipython",
    "version": 3
   },
   "file_extension": ".py",
   "mimetype": "text/x-python",
   "name": "python",
   "nbconvert_exporter": "python",
   "pygments_lexer": "ipython3",
   "version": "3.8.8"
  }
 },
 "nbformat": 4,
 "nbformat_minor": 5
}
