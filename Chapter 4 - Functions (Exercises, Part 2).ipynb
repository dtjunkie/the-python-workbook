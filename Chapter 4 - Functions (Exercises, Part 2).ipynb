{
 "cells": [
  {
   "cell_type": "markdown",
   "id": "091ff722",
   "metadata": {},
   "source": [
    "# Chapter 4 - Functions (Exercises, Part 2)"
   ]
  },
  {
   "cell_type": "markdown",
   "id": "f06fc9b4",
   "metadata": {},
   "source": [
    "## Exercise 91: Gregorian Date to Ordinal Date\n",
    "\n",
    "<p>An ordinal date consists of a year and a day within it, both of which are integers. The\n",
    "year can be any year in the Gregorian calendar while the day within the year ranges\n",
    "from one, which represents January 1, through to 365 (or 366 if the year is a leap\n",
    "year) which represents December 31. Ordinal dates are convenient when computing\n",
    "differences between dates that are a specific number of days (rather than months). For\n",
    "example, ordinal dates can be used to easily determine whether a customer is within\n",
    "a 90 day return period, the sell-by date for a food-product based on its production\n",
    "date, and the due date for a baby.</p>\n",
    "\n",
    "Write a function named `ordinalDate` that takes three integers as parameters.\n",
    "These parameters will be a day, month and year respectively. The function should\n",
    "return the day within the year for that date as its only result. Create a main program\n",
    "that reads a day, month and year from the user and displays the day within the year for\n",
    "that date. Your main program should only run when your file has not been imported\n",
    "into another program. $\\ (72 $$\\ lines) $"
   ]
  },
  {
   "cell_type": "code",
   "execution_count": 1,
   "id": "d1942a92",
   "metadata": {},
   "outputs": [
    {
     "name": "stdout",
     "output_type": "stream",
     "text": [
      "Enter the year: 2021\n",
      "Enter the month number: 5\n",
      "Enter the day number: 16\n",
      "Today is Day 136 of the year 2021.\n"
     ]
    }
   ],
   "source": [
    "## Computes the day within the year of a certain date\n",
    "# Imports the date class from the datetime module\n",
    "from datetime import date\n",
    "\n",
    "# @param year the date year\n",
    "# @param month the equivalent number of the date month\n",
    "# @param day the day number of the month\n",
    "def ordinalDate(year, month, day):\n",
    "    # Setting the starting date to January 1 of any year since\n",
    "    # our function must return the day within the year\n",
    "    year_start, month_start, day_start = year, 1, 1\n",
    "    \n",
    "    # Loaded all variables into the date class and \n",
    "    # then loaded to variables \"date_start\" and date_today\n",
    "    # respectively.\n",
    "    date_start = date(year_start, month_start, day_start)\n",
    "    date_today = date(year, month, day)\n",
    "    \n",
    "    # The two variables is then converted into respective\n",
    "    # ordinal dates with 01-01-01 as their reference starting\n",
    "    # date.\n",
    "    ordinal_start = date_start.toordinal()\n",
    "    ordinal_today = date_today.toordinal()\n",
    "    \n",
    "    # Computes and returns the ordinal date of the current year\n",
    "    day_year = (ordinal_today - ordinal_start) + 1\n",
    "    return day_year\n",
    "\n",
    "def main():\n",
    "    # Asks the year, month number, and day number from the\n",
    "    # user.\n",
    "    year = int(input(\"Enter the year: \"))\n",
    "    month = int(input(\"Enter the month number: \"))\n",
    "    day = int(input(\"Enter the day number: \"))\n",
    "    \n",
    "    # Computes and displays the ordinal date of the current year\n",
    "    ordinal_date = ordinalDate(year, month, day)\n",
    "    print(\"Today is Day %d of the year %d.\"% (ordinal_date, year))\n",
    "\n",
    "# Calls the main() function\n",
    "main()"
   ]
  },
  {
   "cell_type": "markdown",
   "id": "1e2da1d3",
   "metadata": {},
   "source": [
    "## Exercise 92: Ordinal Date to Gregorian Date\n",
    "\n",
    "<p>Create a function that takes an ordinal date, consisting of a year and a day within in\n",
    "that year, as its parameters. The function will return the day and month corresponding to that ordinal date as its results. Ensure that your function handles leap years\n",
    "correctly.</p>\n",
    "<p>Use your function, as well as the ordinalDate function that you wrote previously, to create a program that reads a date from the user. Then your program should\n",
    "report a second date that occurs some number of days later. For example, your program could read the date a product was purchased and then report the last date that\n",
    "it can be returned (based on a return period that is a particular number of days), or\n",
    "your program could compute the due date for a baby based on a gestation period of\n",
    "280 days. Ensure that your program correctly handles cases where the entered date\n",
    "and the computed date occur in different years. $\\ (103 $$\\ lines) $</p>"
   ]
  },
  {
   "cell_type": "code",
   "execution_count": 5,
   "id": "f2ad4ea2",
   "metadata": {},
   "outputs": [
    {
     "name": "stdout",
     "output_type": "stream",
     "text": [
      "Enter the year: 2020 \n",
      "Enter the month number: 3\n",
      "Enter the day number: 14\n",
      "You can return this item until: 2020-6-12\n"
     ]
    }
   ],
   "source": [
    "## Converts the ordinal date to a Gregorian date\n",
    "# Imports the date function from the datetime module and\n",
    "# the ordinalDate function from the ordinaldate module\n",
    "from datetime import date\n",
    "from ordinaldate import ordinalDate\n",
    "\n",
    "# @param year the date year\n",
    "# @param day_year the day number within the date year\n",
    "def gregorianDate(year, day_year):\n",
    "    \n",
    "    # Setting the starting date to January 1 of the year\n",
    "    year_start, month_start, day_start = year, 1, 1\n",
    "    \n",
    "    # Takes all the starting date variables and converts them\n",
    "    # into a Gregorian date format\n",
    "    date_start = date(year_start, month_start, day_start)\n",
    "    \n",
    "    # Converts the starting date from Gregorian to ordinal date format  \n",
    "    # with 01-01-01 as its reference starting date\n",
    "    ordinal_start = date_start.toordinal()\n",
    "    \n",
    "    # Determines the equivalent ordinal date of the current date\n",
    "    ordinal_today = day_year + ordinal_start - 1\n",
    "    \n",
    "    # Computes and returns the current date in tuple format\n",
    "    date_today = date.fromordinal(ordinal_today)\n",
    "    return date_today.year, date_today.month, date_today.day\n",
    "\n",
    "def main():\n",
    "    # Asks the user to input the year, month number, and day number\n",
    "    year = int(input(\"Enter the year: \"))\n",
    "    month = int(input(\"Enter the month number: \"))\n",
    "    day = int(input(\"Enter the day number: \"))\n",
    "    \n",
    "    # Takes the user input and transforms the into an \n",
    "    # ordinal date\n",
    "    ordinal = ordinalDate(year, month, day)\n",
    "    \n",
    "    # Created a variable for the period of a certain\n",
    "    # number of days. Then, it will be added to the\n",
    "    # ordinal date to create a new ordinal date\n",
    "    return_period = 90\n",
    "    new_ordinal_date = ordinal + return_period\n",
    "    \n",
    "    # Computes and displays the end date of the period\n",
    "    max_return_date = gregorianDate(year, new_ordinal_date)\n",
    "    print(\"You can return this item until: %d-%d-%d\" % (max_return_date[0], \n",
    "                                                        max_return_date[1], \n",
    "                                                        max_return_date[2]))\n",
    "# Calls the main() function\n",
    "main()"
   ]
  },
  {
   "cell_type": "markdown",
   "id": "77a344ec",
   "metadata": {},
   "source": [
    "## Exercise 93: Center a String in the Terminal Window\n",
    "\n",
    "<p>Write a function that takes a string,$\\ s $, as its first parameter, and the width of the\n",
    "window in characters,$\\ w $, as its second parameter. Your function will return a new\n",
    "string that includes whatever leading spaces are needed so that$\\ s $ will be centered in\n",
    "the window when the new string is printed. The new string should be constructed in\n",
    "the following manner:</p>\n",
    "\n",
    "-  If the length of$\\ s $ is greater than or equal to the width of the window then$\\ s $ should be returned.\n",
    "-  If the length of$\\ s $ is less than the width of the window then a string containing `(len(s) - w) // 2` spaces followed by s should be returned.\n",
    "\n",
    "<p>Write a main program that demonstrates your function by displaying multiple\n",
    "strings centered in the window.$\\ (29 $$\\ lines) $</p>"
   ]
  },
  {
   "cell_type": "code",
   "execution_count": 17,
   "id": "27466b79",
   "metadata": {},
   "outputs": [
    {
     "name": "stdout",
     "output_type": "stream",
     "text": [
      "                           This is a centered string.\n"
     ]
    }
   ],
   "source": [
    "## Returns a new string that is centered in the terminal window\n",
    "# @param s the string input\n",
    "# @param w the width of the window\n",
    "def centeredString(s, w):\n",
    "    # If the length of s is greater than or equal to the width\n",
    "    # of the window, s will be returned\n",
    "    if len(s) >= w:\n",
    "        return s\n",
    "    # Else it will return a string containing spaces followed\n",
    "    # by s will be returned\n",
    "    spaces = (w - len(s)) // 2\n",
    "    output = (\" \" * spaces) + s\n",
    "    return output\n",
    "\n",
    "# Displays the centered string\n",
    "def main():\n",
    "    print(centeredString(\"This is a centered string.\", 80))\n",
    "\n",
    "# Calls the main() function\n",
    "main()"
   ]
  },
  {
   "cell_type": "markdown",
   "id": "8009621c",
   "metadata": {},
   "source": [
    "## Exercise 94: Is It a Valid Triangle?"
   ]
  },
  {
   "cell_type": "markdown",
   "id": "aded5977",
   "metadata": {},
   "source": [
    "<p>If you have 3 straws, possibly of differing lengths, it may or may not be possible\n",
    "to lay them down so that they form a triangle when their ends are touching. For\n",
    "example, if all of the straws have a length of 6 inches then one can easily construct\n",
    "an equilateral triangle using them. However, if one straw is 6 inches long, while\n",
    "the other two are each only 2 inches long, then a triangle cannot be formed. More\n",
    "generally, if any one length is greater than or equal to the sum of the other two then\n",
    "the lengths cannot be used to form a triangle. Otherwise they can form a triangle.</p>\n",
    "\n",
    "Write a function that determines whether or not three lengths can form a triangle.\n",
    "The function will take 3 parameters and return a Boolean result. If any of the lengths\n",
    "are less than or equal to 0 then your function should return `False`. Otherwise it\n",
    "should determine whether or not the lengths can be used to form a triangle using\n",
    "the method described in the previous paragraph, and return the appropriate result.\n",
    "In addition, write a program that reads 3 lengths from the user and demonstrates the\n",
    "behaviour of your function.$\\ (33 $$\\ lines) $"
   ]
  },
  {
   "cell_type": "code",
   "execution_count": 9,
   "id": "4d557db5",
   "metadata": {},
   "outputs": [
    {
     "name": "stdout",
     "output_type": "stream",
     "text": [
      "Enter the length of the first side: 6\n",
      "Enter the length of the second side: 2\n",
      "Enter the length of the third side: 2\n",
      "False\n"
     ]
    }
   ],
   "source": [
    "## Determines whether the three sides will form a triangle\n",
    "# @param len_1 the first side of the triangle\n",
    "# @param len_2 the second side of the triangle\n",
    "# @param len_3 the third side of the triangle\n",
    "def validTriangle(len_1, len_2, len_3):\n",
    "    # If the length of either of the three sides are \n",
    "    # less than or equal to 0, it will return false.\n",
    "    # Else, it will proceed to determine whether the \n",
    "    # three sides will form a triangle\n",
    "    if len_1 <= 0 or len_2 <= 0 or len_3 <= 0:\n",
    "        return False\n",
    "    else:\n",
    "        # If one of the three sides are greater than or \n",
    "        # equal to the sum of the other two sides, it will\n",
    "        # return False. Else, it will return True.\n",
    "        if (len_1 >= len_2 + len_3 \n",
    "            or len_2 >= len_1 + len_3 \n",
    "            or len_3 >= len_1 + len_2):\n",
    "            return False\n",
    "        else:\n",
    "            return True\n",
    "\n",
    "def main():\n",
    "    # Takes the length of the three sides from the user\n",
    "    length_1 = float(input(\"Enter the length of the first side: \"))\n",
    "    length_2 = float(input(\"Enter the length of the second side: \"))\n",
    "    length_3 = float(input(\"Enter the length of the third side: \"))\n",
    "    \n",
    "    # Computes and determines if the length of the three sides\n",
    "    # will form a triangle\n",
    "    valid_triangle = validTriangle(length_1,length_2,length_3)\n",
    "    print(valid_triangle)\n",
    "\n",
    "# Calls the main() function\n",
    "main()"
   ]
  },
  {
   "cell_type": "markdown",
   "id": "0767ff73",
   "metadata": {},
   "source": [
    "## Exercise 95: Capitalize It\n",
    "\n",
    "<p>Many people do not use capital letters correctly, especially when typing on small\n",
    "devices like smart phones. To help address this situation, you will create a function\n",
    "that takes a string as its only parameter and returns a new copy of the string that has\n",
    "been correctly capitalized. In particular, your function must:</p>\n",
    "\n",
    "- Capitalize the first non-space character in the string,\n",
    "- <p>Capitalize the first non-space character after a period, exclamation mark or question\n",
    "mark, and</p>\n",
    "- <p>Capitalize a lowercase “i” if it is preceded by a space and followed by a space,\n",
    "period, exclamation mark, question mark or apostrophe.</p>\n",
    "\n",
    "<p>Implementing these transformations will correct most capitalization errors. For\n",
    "example, if the function is provided with the string “what time do i have to be there?\n",
    "what’s the address? this time i’ll try to be on time!” then it should return the string\n",
    "“What time do I have to be there? What’s the address? This time I’ll try to be on\n",
    "time!”. Include a main program that reads a string from the user, capitalizes it using\n",
    "your function, and displays the result.$\\ (68 $$\\ lines) $</p>\n"
   ]
  },
  {
   "cell_type": "code",
   "execution_count": 30,
   "id": "80d234b5",
   "metadata": {},
   "outputs": [
    {
     "name": "stdout",
     "output_type": "stream",
     "text": [
      "Enter a phrase or a sentence: what time do i have to be there? what’s the address? this time i’ll try to be on time!\n",
      "What time do I have to be there? What’s the address? This time I’ll try to be on time!\n"
     ]
    }
   ],
   "source": [
    "## Capitalize all necessary words that are required to be capitalize\n",
    "# @param string: the unedited string\n",
    "def capitalize(string):\n",
    "    # Put all the characters of the unedited string\n",
    "    # in a list.\n",
    "    str_list = list(string)\n",
    "    \n",
    "    for i in range(len(str_list)):\n",
    "        # Capitalizes the character in the 0th index\n",
    "        if i == 0:\n",
    "            a = str_list[i].capitalize()\n",
    "            str_list[i] = a\n",
    "            \n",
    "        # Capitalizes the first non-space character after a\n",
    "        # period, exclamation mark, or a question mark.\n",
    "        elif (str_list[i - 1] == \" \" and (str_list[i - 2] == \".\"\n",
    "              or str_list[i - 2] == \"!\" or str_list[i - 2] == \"?\")):\n",
    "            a = str_list[i].capitalize()\n",
    "            str_list[i] = a\n",
    "            \n",
    "        # Capitalizes the character \"i\" if it is preceded by a space\n",
    "        # and followed by a space, period, exclamation mark, question\n",
    "        # mark or an apostrophe.\n",
    "        elif (str_list[i] == \"i\" and str_list[i - 1] == \" \" \n",
    "              and (str_list[i + 1] == \" \" or str_list[i + 1] == \".\"\n",
    "             or str_list[i + 1] == \"!\" or str_list[i + 1] == \"?\"\n",
    "             or str_list[i + 1] == \"’\")):\n",
    "            a = str_list[i].capitalize()\n",
    "            str_list[i] = a\n",
    "            \n",
    "    # Joins all the characters from the list and returns the\n",
    "    # corrected string\n",
    "    capitalized = \"\".join(str_list)\n",
    "    return capitalized\n",
    "\n",
    "def main():\n",
    "    # Takes a text string from the user\n",
    "    text = input(\"Enter a text: \")\n",
    "    \n",
    "    # Corrects the text string and displays it\n",
    "    capital = capitalize(text)\n",
    "    print(capital)\n",
    "\n",
    "# Calls the main() function\n",
    "main()"
   ]
  },
  {
   "cell_type": "markdown",
   "id": "e8779057",
   "metadata": {},
   "source": [
    "## Exercise 96: Does a String Represent an Integer?\n",
    "\n",
    "In this exercise you will write a function named `isInteger` that determines\n",
    "whether or not the characters in a string represent a valid integer. When determining if a string represents an integer you should ignore any leading or trailing\n",
    "white space. Once this white space is ignored, a string represents an integer if its\n",
    "length is at least one and it only contains digits, or if its first character is either +\n",
    "or - and the first character is followed by one or more characters, all of which are\n",
    "digits.\n",
    "<p>Write a main program that reads a string from the user and reports whether or\n",
    "not it represents an integer. Ensure that the main program will not run if the file\n",
    "containing your solution is imported into another program.$\\ (30 $$\\ lines) $</p>\n",
    "\n",
    "> Hint: You may find the `lstrip`, `rstrip` and/or `strip` methods for strings\n",
    "helpful when completing this exercise. Documentation for these methods is\n",
    "available online."
   ]
  },
  {
   "cell_type": "code",
   "execution_count": 6,
   "id": "bbacfa7b",
   "metadata": {},
   "outputs": [
    {
     "name": "stdout",
     "output_type": "stream",
     "text": [
      "Enter a text:    -6.43   \n",
      "This string does not represent an integer.\n"
     ]
    }
   ],
   "source": [
    "## Determines whether a string represents an integer\n",
    "# @param string: the string made of numbers and symbols \"+\" and/or \"-\"\n",
    "def isInteger(string):\n",
    "    # Removes all leading and trailing whitespaces in the string.\n",
    "    string = string.strip()\n",
    "    \n",
    "    # If the string has a plus or minus symbol followed by digits,\n",
    "    # the function will return \"True\"\n",
    "    if ((string[0] == \"+\" or string[0] == \"-\") \n",
    "        and string[1:].isdigit()):\n",
    "        return True\n",
    "    \n",
    "    # If the string is composed of numerical digits, the function \n",
    "    # will return \"True\".\n",
    "    if string.isdigit():\n",
    "        return True\n",
    "    \n",
    "    # If both conditions were not satisfied, the function will return \"False\".\n",
    "    return False\n",
    "\n",
    "def main():\n",
    "    # Takes a string from the user\n",
    "    text = input(\"Enter a text: \")\n",
    "    \n",
    "    # Checks and displays a text if the string does or does not represent\n",
    "    # an integer\n",
    "    if isInteger(text):\n",
    "        print(\"This string represents an integer.\")\n",
    "    else:\n",
    "        print(\"This string does not represent an integer.\")\n",
    "\n",
    "# Calls the main() function if the files containing the solution\n",
    "# is not imported into another program\n",
    "if __name__ == \"__main__\":\n",
    "    main()"
   ]
  },
  {
   "cell_type": "markdown",
   "id": "31cd6d13",
   "metadata": {},
   "source": [
    "## Exercise 97: Operator Precedence\n",
    "\n",
    "Write a function named `precedence` that returns an integer representing the precedence of a mathematical operator. A string containing the operator will be passed to\n",
    "the function as its only parameter. Your function should return 1 for + and -, 2 for *\n",
    "and /, and 3 for ˆ. If the string passed to the function is not one of these operators\n",
    "then the function should return -1. Include a main program that reads an operator\n",
    "from the user and either displays the operator’s precedence or an error message indicating that the input was not an operator. Your main program should only run when\n",
    "the file containing your solution has not been imported into another program. $\\ (30 $$\\ lines) $\n",
    "\n",
    "> In this exercise, along with others that appear later in the book, we will use\n",
    "ˆ to represent exponentiation. Using ˆ instead of Python’s choice of **\n",
    "will make these exercises easier because an operator will always be a single\n",
    "character."
   ]
  },
  {
   "cell_type": "code",
   "execution_count": 45,
   "id": "ebd850d7",
   "metadata": {},
   "outputs": [
    {
     "name": "stdout",
     "output_type": "stream",
     "text": [
      "Enter an operator: +\n",
      "The precedence number of + is 1\n"
     ]
    }
   ],
   "source": [
    "## Returns an integer representing the precedence of a mathematical operator\n",
    "# @param operator: the mathematical operator\n",
    "def precedence(operator):\n",
    "    # If it is an addition or subtraction operator, the function will\n",
    "    # return 1.\n",
    "    if operator == \"+\" or operator == \"-\":\n",
    "        return 1\n",
    "    \n",
    "    # Else, if it is a multiplication or division operator, the function\n",
    "    # will return 2.\n",
    "    elif operator == \"*\" or operator == \"/\":\n",
    "        return 2\n",
    "    \n",
    "    # Else, if it is an exponentiation operator, the function will return 3.\n",
    "    elif operator == \"^\":\n",
    "        return 3\n",
    "    \n",
    "    # If it is not any of the operators mentioned, the function will return\n",
    "    # -1.\n",
    "    else:\n",
    "        return -1\n",
    "\n",
    "\n",
    "def main():\n",
    "    # Takes an input from the user\n",
    "    main_input = input(\"Enter an operator: \")\n",
    "    \n",
    "    # Checks and displays the precedence of the operator\n",
    "    # or an error message if the user enters a non-mathematical operator\n",
    "    if precedence(main_input):\n",
    "        print(f\"The precedence number of {main_input} is {precedence(main_input)}\")\n",
    "    else:\n",
    "        print(\"The character you entered is not an operator\")\n",
    "\n",
    "# Calls the main() function if the files containing the solution\n",
    "# is not imported into another program\n",
    "if __name__ == \"__main__\":\n",
    "    main()"
   ]
  },
  {
   "cell_type": "markdown",
   "id": "68695a87",
   "metadata": {},
   "source": [
    "## Exercise 98: Is a Number Prime?\n",
    "\n",
    "A prime number is an integer greater than one that is only divisible by one and itself.\n",
    "Write a function that determines whether or not its parameter is prime, returning\n",
    "`True` if it is, and `False` otherwise. Write a main program that reads an integer\n",
    "from the user and displays a message indicating whether or not it is prime. Ensure\n",
    "that the main program will not run if the file containing your solution is imported\n",
    "into another program. $\\ (28 $$\\ lines) $\n"
   ]
  },
  {
   "cell_type": "code",
   "execution_count": 1,
   "id": "ccba3e43",
   "metadata": {},
   "outputs": [
    {
     "name": "stdout",
     "output_type": "stream",
     "text": [
      "Enter a number: 1\n",
      "1 is not a prime number.\n"
     ]
    }
   ],
   "source": [
    "## Determines if an integer is a prime number\n",
    "# @ param num: the integer\n",
    "def isPrime(num):\n",
    "    # Set the 'factors' and 'divisor' variable to 0\n",
    "    # and 1 respectively.\n",
    "    factors = 0\n",
    "    divisor = 1\n",
    "    \n",
    "    # The loop with continue as long as the\n",
    "    # divisor is less than or equal to the integer\n",
    "    while divisor <= num:\n",
    "        # If the remainder bet. the num and the divisor is 0,\n",
    "        # both the 'factors' and 'divisor' variables will be added by 1\n",
    "        if num % divisor == 0:\n",
    "            factors += 1\n",
    "            divisor += 1\n",
    "            \n",
    "        # Else, only the divisor variable will be added by 1\n",
    "        else:\n",
    "            divisor += 1\n",
    "            \n",
    "    # If the number of factors is only 2, the function will return 'True'\n",
    "    # since prime numbers should have only two factors, 1 and the number itself.\n",
    "    if factors == 2:\n",
    "        return True\n",
    "    \n",
    "    # Else, it will return 'False'\n",
    "    else:\n",
    "        return False\n",
    "    \n",
    "def main():\n",
    "    # Takes the input from the user\n",
    "    main_input = int(input(\"Enter a number: \"))\n",
    "    \n",
    "    # Calculates and displays a text whether user input is\n",
    "    # a prime or non-prime number\n",
    "    if isPrime(main_input):\n",
    "        print(main_input,\"is a prime number.\")\n",
    "    else:\n",
    "        print(main_input,\"is not a prime number.\")\n",
    "        \n",
    "# Calls the main() function if the files containing the solution\n",
    "# is not imported into another program\n",
    "if __name__ == \"__main__\":\n",
    "    main()    "
   ]
  },
  {
   "cell_type": "markdown",
   "id": "07e4d1dc",
   "metadata": {},
   "source": [
    "## Exercise 99: Next Prime\n",
    "\n",
    "In this exercise you will create a function named nextPrime that finds and returns\n",
    "the first prime number larger than some integer, n. The value of n will be passed to\n",
    "the function as its only parameter. Include a main program that reads an integer from\n",
    "the user and displays the first prime number larger than the entered value. Import\n",
    "and use your solution to Exercise 98 while completing this exercise. $\\ (27 $$\\ lines) $"
   ]
  },
  {
   "cell_type": "code",
   "execution_count": 20,
   "id": "e6cbe54e",
   "metadata": {},
   "outputs": [
    {
     "name": "stdout",
     "output_type": "stream",
     "text": [
      "Enter a number: 627\n",
      "The next prime number larger than 627 is 631.\n"
     ]
    }
   ],
   "source": [
    "## Returns the prime number which is larger than the user's input number.\n",
    "# Imports the function \"isPrime\" from Exercise 98.\n",
    "from isPrime import isPrime\n",
    "\n",
    "# @ param n: the number\n",
    "def nextPrime(n):\n",
    "    '''\n",
    "    Returns the prime number which is larger than the user's input number.\n",
    "    '''\n",
    "    # Created a initialization variable \"num\" which is\n",
    "    # equal to the number n plus 1.\n",
    "    num = n + 1\n",
    "    \n",
    "    # While the value of variable \"num\" is greater than \n",
    "    # the value of variable \"n\", it will evaluate whether\n",
    "    # the value of variable \"num\" is a prime number\n",
    "    while num > n:\n",
    "        is_prime = isPrime(num)\n",
    "        \n",
    "        # If the value of the variable \"num\" is a \n",
    "        # prime number, it will return the number and\n",
    "        # end the loop.\n",
    "        if is_prime == True:\n",
    "            return num\n",
    "        \n",
    "        # Else, it will added by one continues its \n",
    "        # evaluation\n",
    "        else:\n",
    "            num += 1\n",
    "            \n",
    "def main():\n",
    "    # Takes an input number from the user\n",
    "    main_input = int(input(\"Enter a number: \"))\n",
    "    \n",
    "    # Determines and displays the next prime number which is\n",
    "    # larger than user's input number\n",
    "    output = nextPrime(main_input)\n",
    "    print(f\"The next prime number larger than {main_input} is {output}.\")\n",
    "    \n",
    "# Calls the main() function if the files containing the solution\n",
    "# is not imported into another program\n",
    "if __name__ == \"__main__\":\n",
    "    main()    "
   ]
  },
  {
   "cell_type": "markdown",
   "id": "22d7a963",
   "metadata": {},
   "source": [
    "## Exercise 100: Random Password\n",
    "\n",
    "Write a function that generates a random password. The password should have a\n",
    "random length of between 7 and 10 characters. Each character should be randomly\n",
    "selected from positions 33 to 126 in the ASCII table. Your function will not take\n",
    "any parameters. It will return the randomly generated password as its only result.\n",
    "Display the randomly generated password in your file’s main program. Your main\n",
    "program should only run when your solution has not been imported into another file.\n",
    "$\\ (Solved, 27 $$\\ lines) $\n",
    "\n",
    "> Hint: You will probably find the `chr` function helpful when completing this\n",
    "exercise. Detailed information about this function is available online."
   ]
  },
  {
   "cell_type": "code",
   "execution_count": 68,
   "id": "f3136e1e",
   "metadata": {},
   "outputs": [
    {
     "name": "stdout",
     "output_type": "stream",
     "text": [
      "Your password is: a/My)FR*W=\n"
     ]
    }
   ],
   "source": [
    "## Generates a password composed of 7 to 10 random ASCII characters\n",
    "# import the randrange method from the random module\n",
    "from random import randrange\n",
    "\n",
    "def randomPassword():\n",
    "    '''\n",
    "    Generates a password composed of 7 to 10 random ASCII characters\n",
    "    '''\n",
    "    # Initialization variable that contains an empty string\n",
    "    password = ''\n",
    "    \n",
    "    # Initialization variable for the password length\n",
    "    pw_len = randrange(7, 11)\n",
    "    \n",
    "    # Initialization variable for the character number\n",
    "    char_no = 1\n",
    "    \n",
    "    # As long as the character number is greater than\n",
    "    # the password length, it will generate a ASCII character\n",
    "    # and appends it to the empty string. Then, it will return\n",
    "    # the generated password.\n",
    "    while char_no <= pw_len:\n",
    "        password += chr(randrange(33, 127))\n",
    "        char_no += 1\n",
    "    return password\n",
    "\n",
    "def main():\n",
    "    # Displays the generated password\n",
    "    print(\"Your password is:\",randomPassword())\n",
    "    \n",
    "# Calls the main() function if the files containing the solution\n",
    "# is not imported into another program\n",
    "if __name__ == \"__main__\":\n",
    "    main()   "
   ]
  },
  {
   "cell_type": "code",
   "execution_count": 60,
   "id": "f931b09d",
   "metadata": {},
   "outputs": [
    {
     "data": {
      "text/plain": [
       "'VHXep?qdu'"
      ]
     },
     "execution_count": 60,
     "metadata": {},
     "output_type": "execute_result"
    }
   ],
   "source": [
    "randomPassword()"
   ]
  },
  {
   "cell_type": "code",
   "execution_count": null,
   "id": "f9d0d743",
   "metadata": {},
   "outputs": [],
   "source": []
  }
 ],
 "metadata": {
  "kernelspec": {
   "display_name": "Python 3",
   "language": "python",
   "name": "python3"
  },
  "language_info": {
   "codemirror_mode": {
    "name": "ipython",
    "version": 3
   },
   "file_extension": ".py",
   "mimetype": "text/x-python",
   "name": "python",
   "nbconvert_exporter": "python",
   "pygments_lexer": "ipython3",
   "version": "3.8.8"
  }
 },
 "nbformat": 4,
 "nbformat_minor": 5
}
