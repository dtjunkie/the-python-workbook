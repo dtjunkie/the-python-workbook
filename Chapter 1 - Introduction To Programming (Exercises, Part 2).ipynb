{
 "cells": [
  {
   "cell_type": "markdown",
   "id": "493d224f",
   "metadata": {},
   "source": [
    "# Introduction To Programming (Exercises, Part 2)"
   ]
  },
  {
   "cell_type": "markdown",
   "id": "ccf01d6f",
   "metadata": {},
   "source": [
    "## Exercise 11 - Fuel Efficiency"
   ]
  },
  {
   "cell_type": "markdown",
   "id": "104a7a38",
   "metadata": {},
   "source": [
    "In the United States, fuel efficiency for vehicles is normally expressed in miles-per-gallon\n",
    "(MPG). In Canada, fuel efficiency is normally expressed in liters-per-hundred\n",
    "kilometers (L/100 km). Use your research skills to determine how to convert from\n",
    "MPG to L/100 km. Then create a program that reads a value from the user in American\n",
    "units and displays the equivalent fuel efficiency in Canadian units (13 lines)."
   ]
  },
  {
   "cell_type": "code",
   "execution_count": 1,
   "id": "69b9ee35",
   "metadata": {},
   "outputs": [
    {
     "name": "stdout",
     "output_type": "stream",
     "text": [
      "Enter the vehicles' fuel efficiency (in miles-per-gallon):5\n",
      "5.0 mpg is equal to 1176.05 liters-per-hundred kilometers\n"
     ]
    }
   ],
   "source": [
    "# Asks the user to enter the value of his/ her cars' fuel efficiency in miles-per-gallon\n",
    "mpg = float(input(\"Enter the vehicles' fuel efficiency (in miles-per-gallon):\"))\n",
    "\n",
    "# Converts the fuel efficiency into liters-per-hundred kilometers\n",
    "lphk = mpg * 235.21\n",
    "\n",
    "# Displays the fuel efficiency in liters-per-hundred kilometers\n",
    "print(mpg,\"mpg is equal to %.2f liters-per-hundred kilometers\" % (lphk))"
   ]
  },
  {
   "cell_type": "markdown",
   "id": "fc6473d8",
   "metadata": {},
   "source": [
    "## Exercise 12 - Distance Between Two Points on Earth"
   ]
  },
  {
   "cell_type": "markdown",
   "id": "854d9bdd",
   "metadata": {},
   "source": [
    "The surface of the Earth is curved, and the distance between degrees of longitude\n",
    "varies with latitude. As a result, finding the distance between two points on the surface\n",
    "of the Earth is more complicated than simply using the Pythagorean theorem.\n",
    "Let (t1, g1) and (t2, g2) be the latitude and longitude of two points on the Earth’s\n",
    "surface. The distance between these points, following the surface of the Earth, in\n",
    "kilometers is:\n",
    "\n",
    "distance = 6371.01 × arccos(sin(t1) × sin(t2) + cos(t1) × cos(t2) × cos(g1 − g2))\n",
    "\n",
    "**The value 6371.01 in the previous equation wasn’t selected at random. It is the\n",
    "average radius of the Earth in kilometers.**\n",
    "\n",
    "Create a program that allows the user to enter the latitude and longitude of two\n",
    "points on the Earth in degrees. Your program should display the distance between\n",
    "the points, following the surface of the earth, in kilometers.\n",
    "\n",
    "**Hint: Python’s trigonometric functions operate in radians. As a result, you will\n",
    "need to convert the user’s input from degrees to radians before computing the\n",
    "distance with the formula discussed previously. The math module contains a\n",
    "function named _radians_ which converts from degrees to radians.**\n",
    "\n",
    "(27 lines)"
   ]
  },
  {
   "cell_type": "code",
   "execution_count": 23,
   "id": "ff52ff1b",
   "metadata": {},
   "outputs": [
    {
     "name": "stdout",
     "output_type": "stream",
     "text": [
      "Enter the latitude of Point A (in degrees):19.11\n",
      "Enter the longitude of Point A (in degrees):121.18\n",
      "Enter the latitude of Point B (in degrees):5.52\n",
      "Enter the longitude of Point B (in degrees):125.43\n",
      "Point A: 19.11 deg. N, 121.18 deg. E\n",
      "Point B: 5.52 deg. N, 125.43 deg. E\n",
      "The distance between two points is: 1574.94 km.\n"
     ]
    }
   ],
   "source": [
    "# Imports the math module\n",
    "import math\n",
    "\n",
    "# Asks the user to input the latitude and longitude of Point A and Point B in degrees\n",
    "t1 = float(input(\"Enter the latitude of Point A (in degrees):\"))\n",
    "g1 = float(input(\"Enter the longitude of Point A (in degrees):\"))\n",
    "t2 = float(input(\"Enter the latitude of Point B (in degrees):\"))\n",
    "g2 = float(input(\"Enter the longitude of Point B (in degrees):\"))\n",
    "\n",
    "# Converts the input from degrees to radians\n",
    "t1_radians = t1 * 0.0174\n",
    "g1_radians = g1 * 0.0174\n",
    "t2_radians = t2 * 0.0174\n",
    "g2_radians = g2 * 0.0174\n",
    "\n",
    "# Calculates the distance of the two points\n",
    "distance = 6371.01 * acos(sin(t1_radians) * sin(t2_radians) + cos(t1_radians) * cos(t2_radians) * cos(g1_radians - g2_radians))\n",
    "\n",
    "# Displays the distance of the two points\n",
    "print(\"Point A:\",t1,\"deg. N,\",g1,\"deg. E\")\n",
    "print(\"Point B:\",t2,\"deg. N,\",g2,\"deg. E\")\n",
    "print(\"The distance between two points is: %.2f km.\" % (distance))"
   ]
  },
  {
   "cell_type": "markdown",
   "id": "9ea53fdf",
   "metadata": {},
   "source": [
    "## Exercise 13 - Making Change\n",
    "\n",
    "Consider the software that runs on a self-checkout machine. One task that it must be\n",
    "able to perform is to determine how much change to provide when the shopper pays\n",
    "for a purchase with cash.\n",
    "Write a program that begins by reading a number of cents from the user as an\n",
    "integer. Then your program should compute and display the denominations of the\n",
    "coins that should be used to give that amount of change to the shopper. The change\n",
    "should be given using as few coins as possible. Assume that the machine is loaded\n",
    "with pennies, nickels, dimes, quarters, loonies and toonies (35 lines).\n",
    "\n",
    "**A one dollar coin was introduced in Canada in 1987. It is referred to as a loonie\n",
    "because one side of the coin has a loon (a type of bird) on it. The two dollar\n",
    "coin, referred to as a toonie, was introduced 9 years later. It’s name is derived\n",
    "from the combination of the number two and the name of the loonie.**"
   ]
  },
  {
   "cell_type": "code",
   "execution_count": 6,
   "id": "a736db12",
   "metadata": {},
   "outputs": [
    {
     "name": "stdout",
     "output_type": "stream",
     "text": [
      "Enter the number of cents:658\n",
      "  3 toonies\n",
      "  0 loonies\n",
      "  2 quarters\n",
      "  0 dimes\n",
      "  1 nickels\n",
      "  3 pennies\n"
     ]
    }
   ],
   "source": [
    "# Asks the user to input the latitude and longitude of Point A and Point B in degrees\n",
    "cents = int(input(\"Enter the number of cents:\"))\n",
    "\n",
    "# Calculate the coins needed for change and displays it\n",
    "print(\" \", cents // 200, \"toonies\" )\n",
    "cents = cents % 200\n",
    "print(\" \", cents // 100, \"loonies\" )\n",
    "cents = cents % 100\n",
    "print(\" \", cents // 25, \"quarters\" )\n",
    "cents = cents % 25\n",
    "print(\" \", cents // 10, \"dimes\" )\n",
    "cents = cents % 10\n",
    "print(\" \", cents // 5, \"nickels\" )\n",
    "cents = cents % 5\n",
    "print(\" \", cents, \"pennies\" )\n",
    "\n"
   ]
  },
  {
   "cell_type": "markdown",
   "id": "2a3e3d35",
   "metadata": {},
   "source": [
    "## Exercise 14 - Height Units\n",
    "\n",
    "Many people think about their height in feet and inches, even in some countries that\n",
    "primarily use the metric system. Write a program that reads a number of feet from\n",
    "the user, followed by a number of inches. Once these values are read, your program\n",
    "should compute and display the equivalent number of centimeters (16 lines).\n",
    "\n",
    "**Hint: One foot is 12 inches. One inch is 2.54 centimeters.**"
   ]
  },
  {
   "cell_type": "code",
   "execution_count": 3,
   "id": "2b3c0445",
   "metadata": {},
   "outputs": [
    {
     "name": "stdout",
     "output_type": "stream",
     "text": [
      "Enter the feet part of your height:5\n",
      "Enter the inch part of your height:7\n",
      "Your height is: 5 feet, 7 inches.\n",
      "Your height in centimeters is: 170.18 centimeters.\n"
     ]
    }
   ],
   "source": [
    "# Asks the user to enter the value of his/her height in x feet, y inches\n",
    "feet = int(input(\"Enter the feet part of your height:\"))\n",
    "inches = int(input(\"Enter the inch part of your height:\"))\n",
    "\n",
    "# Displays the height in x feet, y inches\n",
    "print(\"Your height is:\",feet,\"feet,\",inches,\"inches.\")\n",
    "\n",
    "#converts the input height in centimeters\n",
    "cm = ((feet * 12) + inches) * 2.54\n",
    "\n",
    "# Displays the height in centimeters\n",
    "print(\"Your height in centimeters is:\",cm,\"centimeters.\")"
   ]
  },
  {
   "cell_type": "markdown",
   "id": "b5646a4b",
   "metadata": {},
   "source": [
    "## Exercise 15 - Distance Units\n",
    "\n",
    "In this exercise, you will create a program that begins by reading a measurement\n",
    "in feet from the user. Then your program should display the equivalent distance in\n",
    "inches, yards and miles. Use the Internet to look up the necessary conversion factors\n",
    "if you don’t have them memorized(20 lines)."
   ]
  },
  {
   "cell_type": "code",
   "execution_count": 9,
   "id": "0e39c37a",
   "metadata": {},
   "outputs": [
    {
     "name": "stdout",
     "output_type": "stream",
     "text": [
      "Enter your measurement in feet:10\n",
      "     120.0 inches\n",
      "      3.30 yards\n",
      "  0.001890 miles\n"
     ]
    }
   ],
   "source": [
    "# Asks the user to enter the measurement in feet\n",
    "feet = float(input(\"Enter your measurement in feet:\"))\n",
    "\n",
    "# Converts the input height into inches, yards, and miles\n",
    "inch = feet * 12\n",
    "yard = feet * 0.33\n",
    "mile = feet * 0.000189\n",
    "\n",
    "# Displays the measurement in inches, yards, and miles\n",
    "print(\"    \",inch,\"inches\")\n",
    "print(\"      %.2f yards\" % (yard))\n",
    "print(\"  %.6f miles\" % (mile))\n",
    "\n"
   ]
  },
  {
   "cell_type": "markdown",
   "id": "2a344c71",
   "metadata": {},
   "source": [
    "## Exercise 16 - Area and Volume\n",
    "\n",
    "Write a program that begins by reading a radius, r , from the user. The program will\n",
    "continue by computing and displaying the area of a circle with radius r and the\n",
    "volume of a sphere with radius r . Use the pi constant in the math module in your\n",
    "calculations (15 lines).\n",
    "\n",
    "**Hint: The area of a circle is computed using the formula area = πr^2. The\n",
    "volume of a sphere is computed using the formula volume = (4/3)πr^3.**"
   ]
  },
  {
   "cell_type": "code",
   "execution_count": 10,
   "id": "b8bd03fd",
   "metadata": {},
   "outputs": [
    {
     "name": "stdout",
     "output_type": "stream",
     "text": [
      "Enter the radius:25.29\n",
      "The area of the circle is: 2009.31 sq. units\n",
      "The volume of the sphere is: 67754.02 cu. units\n"
     ]
    }
   ],
   "source": [
    "# Imports pi function from the math module\n",
    "from math import pi\n",
    "\n",
    "# Asks the user to enter the value of the radius\n",
    "r = float(input(\"Enter the radius:\"))\n",
    "\n",
    "# Calculates the area of the circle\n",
    "area_circle = pi * (r ** 2)\n",
    "\n",
    "# Calculates the volume of the sphere\n",
    "volume_sphere = (4 * pi * (r ** 3))/3\n",
    "\n",
    "# Displays the area of the circle\n",
    "print(\"The area of the circle is: %.2f sq. units\" % (area_circle))\n",
    "\n",
    "# Displays the volume of the sphere\n",
    "print(\"The volume of the sphere is: %.2f cu. units\" % (volume_sphere))"
   ]
  },
  {
   "cell_type": "markdown",
   "id": "b6c9a703",
   "metadata": {},
   "source": [
    "## Exercise 17 - Heat Capacity\n",
    "\n",
    "The amount of energy required to increase the temperature of one gram of a material\n",
    "by one degree Celsius is the material’s specific heat capacity, C. The total amount\n",
    "of energy, q, required to raise m grams of a material by ΔT degrees Celsius can be\n",
    "computed using the formula:\n",
    "\n",
    "$$q = mCΔT$$\n",
    "\n",
    "Write a program that reads the mass of some water and the temperature change from\n",
    "the user. Your program should display the total amount of energy that must be added\n",
    "or removed to achieve the desired temperature change (23 lines).\n",
    "\n",
    "**Hint: The specific heat capacity of water is 4.186 J\n",
    "/g◦C. Because water has a\n",
    "density of 1.0 grams per milliliter, you can use grams and milliliters interchangeably\n",
    "in this exercise.**\n",
    "\n",
    "Extend your program so that it also computes the cost of heating the water. Electricity\n",
    "is normally billed using units of kilowatt hours rather than Joules. In this\n",
    "exercise, you should assume that electricity costs 8.9 cents per kilowatt hour. Use\n",
    "your program to compute the cost of boiling the water needed for a cup of coffee.\n",
    "\n",
    "**Hint: You will need to look up the factor for converting between Joules and\n",
    "kilowatt hours to complete the last part of this exercise.**"
   ]
  },
  {
   "cell_type": "code",
   "execution_count": 25,
   "id": "f57f011a",
   "metadata": {},
   "outputs": [
    {
     "name": "stdout",
     "output_type": "stream",
     "text": [
      "Enter the mass of the water (in mL):500\n",
      "Enter the temperature change(in Celsius):12\n",
      "The total amount of energy is: 25116.00 joules\n",
      "The cost of heating water is: 0.06 cents\n"
     ]
    }
   ],
   "source": [
    "# Asks the user to enter the values for mass of the water and the temperature change\n",
    "vol = float(input(\"Enter the mass of the water (in mL):\"))\n",
    "d_temp = int(input(\"Enter the temperature change(in Celsius):\"))\n",
    "\n",
    "# Calculate the amount of energy\n",
    "energy = vol * 4.186 * d_temp\n",
    "\n",
    "# Displays the amount of energy\n",
    "print(\"The total amount of energy is: %.2f joules\" % (energy))\n",
    "\n",
    "# Converts the unit of the amount of energy into kilowatt hours\n",
    "kWh = energy / 3600000\n",
    "\n",
    "# Calculate the cost of heating the water\n",
    "heating_water_cost = kWh * 8.9\n",
    "\n",
    "# Display the cost of heating water\n",
    "print(\"The cost of heating water is: %.2f cents\" % (heating_water_cost))"
   ]
  },
  {
   "cell_type": "markdown",
   "id": "710d7846",
   "metadata": {},
   "source": [
    "## Exercise 18 -  Volume of a Cylinder\n",
    "\n",
    "The volume of a cylinder can be computed by multiplying the area of its circular\n",
    "base by its height. Write a program that reads the radius of the cylinder, along with\n",
    "its height, from the user and computes its volume. Display the result rounded to one\n",
    "decimal place (15 lines)."
   ]
  },
  {
   "cell_type": "code",
   "execution_count": 23,
   "id": "037dba7a",
   "metadata": {},
   "outputs": [
    {
     "name": "stdout",
     "output_type": "stream",
     "text": [
      "Enter the radius:45\n",
      "Enter the height:6.7\n",
      "The volume of the cylinder is: 947.2 cu. units\n"
     ]
    }
   ],
   "source": [
    "# Imports pi function from the math module\n",
    "from math import pi\n",
    "\n",
    "# Asks the user to input the radius and height\n",
    "r = float(input(\"Enter the radius:\"))\n",
    "h = float(input(\"Enter the height:\"))\n",
    "\n",
    "# Calculates the volume of the cylinder\n",
    "v_cylinder = pi * r * h\n",
    "\n",
    "# Displays the volume of the cylinder\n",
    "print(\"The volume of the cylinder is: %.1f cu. units\" % (v_cylinder))"
   ]
  },
  {
   "cell_type": "markdown",
   "id": "9738e18a",
   "metadata": {},
   "source": [
    "## Exercise 19 - Free Fall\n",
    "\n",
    "Create a program that determines how quickly an object is travelling when it hits the\n",
    "ground. The user will enter the height from which the object is dropped in meters (m).\n",
    "Because the object is dropped its initial speed is 0 m/s. Assume that the acceleration\n",
    "due to gravity is 9.8m/s^2. You can use the formula $v_n = \\sqrt{v_i^2 + 2ad}$ to compute the\n",
    "final speed, $v_f$ , when the initial speed, $v_i$ , acceleration, $a$, and distance, $d$, are known."
   ]
  },
  {
   "cell_type": "code",
   "execution_count": 24,
   "id": "5570c375",
   "metadata": {},
   "outputs": [
    {
     "name": "stdout",
     "output_type": "stream",
     "text": [
      "Enter the height(in meters):100\n",
      "The final velocity is: 44.27 m/s\n"
     ]
    }
   ],
   "source": [
    "# Imports the square root function from the math module\n",
    "from math import sqrt\n",
    "\n",
    "# Asks the user to enter the value of the height in meters\n",
    "d = float(input(\"Enter the height(in meters):\"))\n",
    "\n",
    "# Calculates the final velocity\n",
    "vel_f = sqrt(2 * 9.8 * d)\n",
    "\n",
    "# Displays the final velocity \n",
    "print(\"The final velocity is: %.2f m/s\" % (vel_f))"
   ]
  },
  {
   "cell_type": "markdown",
   "id": "1468ce16",
   "metadata": {},
   "source": [
    "## Exercise 20 -  Ideal Gas Law\n",
    "\n",
    "The ideal gas law is a mathematical approximation of the behavior of gasses as\n",
    "pressure, volume and temperature change. It is usually stated as:\n",
    "\n",
    "$$pV=nRT$$\n",
    "\n",
    "where $P$ is the pressure in Pascals, $V$ is the volume in liters, $n$ is the amount of\n",
    "substance in moles, $R$ is the ideal gas constant, equal to 8.314 $ \\frac{J}{mol K} $  , and $T$ is the\n",
    "temperature in degrees Kelvin.\n",
    "Write a program that computes the amount of gas in moles when the user supplies\n",
    "the pressure, volume and temperature. Test your program by determining the number\n",
    "of moles of gas in a SCUBA tank. A typical SCUBA tank holds 12 liters of gas at\n",
    "a pressure of 20,000,000 Pascals (approximately 3,000 PSI). Room temperature is\n",
    "approximately 20 degrees Celsius or 68 degrees Fahrenheit (19 lines).\n",
    "\n",
    "**Hint: A temperature is converted from Celsius to Kelvin by adding 273.15\n",
    "to it. To convert a temperature from Fahrenheit to Kelvin, deduct 32 from it,\n",
    "multiply it by $ \\frac{5}{9} $\n",
    "and then add 273.15 to it.**"
   ]
  },
  {
   "cell_type": "code",
   "execution_count": 27,
   "id": "9101e5ed",
   "metadata": {},
   "outputs": [
    {
     "name": "stdout",
     "output_type": "stream",
     "text": [
      "Enter the pressure(in pascals):20000000\n",
      "Enter the volume(in liters):12\n",
      "Enter the temperature(in Celsius)20\n",
      "The no. of moles is: 98471.67 moles\n"
     ]
    }
   ],
   "source": [
    "# Asks the user to input the pressure, volume and temperature\n",
    "p = int(input(\"Enter the pressure(in pascals):\"))\n",
    "V = int(input(\"Enter the volume(in liters):\"))\n",
    "t = int(input(\"Enter the temperature(in Celsius)\"))\n",
    "\n",
    "# Converts the unit of temperature in Kelvin\n",
    "T = t + 273.15\n",
    "\n",
    "# Calculates the no. of moles of gas\n",
    "n = (p * V)/(8.314 * T)\n",
    "\n",
    "# Displays the no. of moles of gas\n",
    "print(\"The no. of moles is: %.2f mol\" % (n))"
   ]
  }
 ],
 "metadata": {
  "kernelspec": {
   "display_name": "Python 3 (ipykernel)",
   "language": "python",
   "name": "python3"
  },
  "language_info": {
   "codemirror_mode": {
    "name": "ipython",
    "version": 3
   },
   "file_extension": ".py",
   "mimetype": "text/x-python",
   "name": "python",
   "nbconvert_exporter": "python",
   "pygments_lexer": "ipython3",
   "version": "3.8.8"
  }
 },
 "nbformat": 4,
 "nbformat_minor": 5
}
