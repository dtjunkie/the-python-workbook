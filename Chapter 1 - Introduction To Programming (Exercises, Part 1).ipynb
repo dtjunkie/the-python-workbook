{
 "cells": [
  {
   "cell_type": "markdown",
   "id": "98617a0c",
   "metadata": {},
   "source": [
    "# INTRODUCTION TO PROGRAMMING (Exercises, Part 1)"
   ]
  },
  {
   "cell_type": "markdown",
   "id": "ff005d23",
   "metadata": {},
   "source": [
    "## Exercise 1 - Mailing Address"
   ]
  },
  {
   "cell_type": "markdown",
   "id": "145de5b1",
   "metadata": {},
   "source": [
    "Create a program that displays your name and complete mailing address. The address\n",
    "should be printed in the format that is normally used in the area where you live. Your\n",
    "program does not need to read any input from the user (9 Lines)."
   ]
  },
  {
   "cell_type": "code",
   "execution_count": 1,
   "id": "489ff4de",
   "metadata": {},
   "outputs": [
    {
     "name": "stdout",
     "output_type": "stream",
     "text": [
      "Daniel Joseph T. Castro\n",
      "2058 Father Masi Street\n",
      "Barangay San Antonio\n",
      "City of San Pedro, Laguna 4023\n"
     ]
    }
   ],
   "source": [
    "# Displays the name of the sender\n",
    "print (\"Daniel Joseph T. Castro\") \n",
    "\n",
    "#Displays the mailing address\n",
    "print(\"2058 Father Masi Street\")\n",
    "print(\"Barangay San Antonio\")\n",
    "print(\"City of San Pedro, Laguna 4023\")"
   ]
  },
  {
   "cell_type": "markdown",
   "id": "17dc6acf",
   "metadata": {},
   "source": [
    "## Exercise 2 - Hello"
   ]
  },
  {
   "cell_type": "markdown",
   "id": "54d9481d",
   "metadata": {},
   "source": [
    "Write a program that asks the user to enter his or her name. The program should\n",
    "respond with a message that says hello to the user, using his or her name (9 lines)."
   ]
  },
  {
   "cell_type": "code",
   "execution_count": 2,
   "id": "a605d0f8",
   "metadata": {},
   "outputs": [
    {
     "name": "stdout",
     "output_type": "stream",
     "text": [
      "Enter your name:Daniel Joseph \n",
      "Hello, Daniel Joseph  !\n"
     ]
    }
   ],
   "source": [
    "# Asks the user to enter his/her name\n",
    "name = input(\"Enter your name:\")\n",
    "\n",
    "# Display the greeting with the name\n",
    "print(\"Hello,\", name,\"!\")"
   ]
  },
  {
   "cell_type": "markdown",
   "id": "b3f63c40",
   "metadata": {},
   "source": [
    "## Exercise 3 - Area of a Room"
   ]
  },
  {
   "cell_type": "markdown",
   "id": "3a0f7ac1",
   "metadata": {},
   "source": [
    "Write a program that asks the user to enter the width and length of a room. Once\n",
    "these values have been read, your program should compute and display the area of\n",
    "the room. The length and the width will be entered as floating-point numbers. Include\n",
    "units in your prompt and output message; either feet or meters, depending on which\n",
    "unit you are more comfortable working with (13 lines)."
   ]
  },
  {
   "cell_type": "code",
   "execution_count": 3,
   "id": "649a8a0e",
   "metadata": {},
   "outputs": [
    {
     "name": "stdout",
     "output_type": "stream",
     "text": [
      "Enter the length(in meters):250\n",
      "Enter the width(in meters):360\n",
      "The area of the room is:90000.00 square meters\n"
     ]
    }
   ],
   "source": [
    "# Asks the user to inputthe length and the width\n",
    "length = float(input(\"Enter the length(in meters):\"))\n",
    "width = float(input(\"Enter the width(in meters):\"))\n",
    "\n",
    "# Calculates the area of the room\n",
    "area = length * width\n",
    "\n",
    "# Displays the calculated area of the room\n",
    "print(\"The area of the room is:%.2f square meters\" % (area))"
   ]
  },
  {
   "cell_type": "markdown",
   "id": "7f1309fd",
   "metadata": {},
   "source": [
    "## Exercise 4 - Area of a Field"
   ]
  },
  {
   "cell_type": "markdown",
   "id": "17573752",
   "metadata": {},
   "source": [
    "Create a program that reads the length and width of a farmer’s field from the user in\n",
    "feet. Display the area of the field in acres (15 lines)."
   ]
  },
  {
   "cell_type": "markdown",
   "id": "02d1ed14",
   "metadata": {},
   "source": [
    "**Hint: There are 43,560 square feet in an acre.**"
   ]
  },
  {
   "cell_type": "code",
   "execution_count": 4,
   "id": "dceb890f",
   "metadata": {},
   "outputs": [
    {
     "name": "stdout",
     "output_type": "stream",
     "text": [
      "Enter the length(in feet):45000\n",
      "Enter the width(in feet):60000\n",
      "The area of the field is:61983.47 acres\n"
     ]
    }
   ],
   "source": [
    "# Asks the user to input the length and the width\n",
    "length = int(input(\"Enter the length(in feet):\"))\n",
    "width = int(input(\"Enter the width(in feet):\"))\n",
    "\n",
    "# Calculates the area of the field\n",
    "area = (length * width) / 43560\n",
    "\n",
    "# Displays the calculated area of the field\n",
    "print(\"The area of the field is:%.2f acres\" % (area))"
   ]
  },
  {
   "cell_type": "markdown",
   "id": "3b654deb",
   "metadata": {},
   "source": [
    "## Exercise 5 - Bottle Deposits"
   ]
  },
  {
   "cell_type": "markdown",
   "id": "af3bb5a7",
   "metadata": {},
   "source": [
    "In many jurisdictions a small deposit is added to drink containers to encourage people\n",
    "to recycle them. In one particular jurisdiction, drink containers holding one liter or\n",
    "less have a 0.10 USD deposit, and drink containers holding more than one liter have a\n",
    "0.25 USD deposit.\n",
    "Write a program that reads the number of containers of each size from the user.\n",
    "Your program should continue by computing and displaying the refund that will be\n",
    "received for returning those containers. Format the output so that it includes a dollar\n",
    "sign and two digits to the right of the decimal point (15 lines)."
   ]
  },
  {
   "cell_type": "code",
   "execution_count": 5,
   "id": "7d779d8e",
   "metadata": {},
   "outputs": [
    {
     "name": "stdout",
     "output_type": "stream",
     "text": [
      "Enter the number of bottle containers which are one liter or less:5\n",
      "Enter the number of bottle containers which are more than one liter:7\n",
      "You will receive $2.25 for all the bottles you returned.\n"
     ]
    }
   ],
   "source": [
    "# Asks the user to input the no. of bottle containers per size\n",
    "deposit_1 = int(input(\"Enter the number of bottle containers which are one liter or less:\"))\n",
    "deposit_2 = int(input(\"Enter the number of bottle containers which are more than one liter:\"))\n",
    "\n",
    "# Calculates the refund to be received by the user\n",
    "refund = (deposit_1 * 0.10) + (deposit_2 * 0.25)\n",
    "\n",
    "# Displays the total refund to be received by the user\n",
    "print(\"You will receive $%.2f for all the bottles you returned.\" % (refund))"
   ]
  },
  {
   "cell_type": "markdown",
   "id": "8bd74664",
   "metadata": {},
   "source": [
    "# Exercise 6 - Tax and Tip"
   ]
  },
  {
   "cell_type": "markdown",
   "id": "872e4e01",
   "metadata": {},
   "source": [
    "The program that you create for this exercise will begin by reading the cost of a meal\n",
    "ordered at a restaurant from the user. Then your program will compute the tax and\n",
    "tip for the meal. Use your local tax rate when computing the amount of tax owing.\n",
    "Compute the tip as 18 percent of the meal amount (without the tax). The output from\n",
    "your program should include the tax amount, the tip amount, and the grand total for\n",
    "the meal including both the tax and the tip. Format the output so that all of the values\n",
    "are displayed using two decimal places (17 lines)."
   ]
  },
  {
   "cell_type": "code",
   "execution_count": 8,
   "id": "6b0b368d",
   "metadata": {},
   "outputs": [
    {
     "name": "stdout",
     "output_type": "stream",
     "text": [
      "Enter the meal cost:50\n",
      "Tax Amount: $5.00\n",
      "Tip Amount: $9.00\n",
      "Grand Total: $64.00\n"
     ]
    }
   ],
   "source": [
    "# Asks the user to enter the cost of the meal\n",
    "meal_cost = float(input(\"Enter the meal cost:\"))\n",
    "\n",
    "# Calculates the tax and tip amount\n",
    "tax = meal_cost * .10\n",
    "tip = meal_cost * .18\n",
    "total = meal_cost + tax + tip\n",
    "\n",
    "# Displays, the tax amount, tip amount, and the grand total\n",
    "print(\"Tax Amount: $%.2f\" % (tax))\n",
    "print(\"Tip Amount: $%.2f\" % (tip))\n",
    "print(\"Grand Total: $%.2f\" % (total))"
   ]
  },
  {
   "cell_type": "markdown",
   "id": "67d56836",
   "metadata": {},
   "source": [
    "# Exercise 7 - Sum of the first *n* positive integers"
   ]
  },
  {
   "cell_type": "markdown",
   "id": "e0c410a4",
   "metadata": {},
   "source": [
    "Write a program that reads a positive integer, n, from the user and then displays the\n",
    "sum of all of the integers from 1 to n. The sum of the first n positive integers can be\n",
    "computed using the formula: \n",
    "\n",
    "sum = (n)(n + 1)/2\n",
    "\n",
    "\n",
    "(11 lines)"
   ]
  },
  {
   "cell_type": "code",
   "execution_count": 7,
   "id": "cc6ca2cb",
   "metadata": {},
   "outputs": [
    {
     "name": "stdout",
     "output_type": "stream",
     "text": [
      "Enter a number:7\n",
      "The sum of the first 7 positive integers is:28\n"
     ]
    }
   ],
   "source": [
    "# Asks the user to enter a number \n",
    "n = int(input(\"Enter a number:\"))\n",
    "\n",
    "# Calculates the sum of the first n integers\n",
    "sum = (n * (n+1))/2\n",
    "\n",
    "# Displays the calculated sum of the first n integers\n",
    "print(\"The sum of the first\",n,\"positive integers is:%d\" % (sum))"
   ]
  },
  {
   "cell_type": "markdown",
   "id": "2cff41a0",
   "metadata": {},
   "source": [
    "## Exercise 8 - Widgets and Gizmos"
   ]
  },
  {
   "cell_type": "markdown",
   "id": "26a7c4e3",
   "metadata": {},
   "source": [
    "An online retailer sells two products: widgets and gizmos. Each widget weighs 75\n",
    "grams. Each gizmo weighs 112 grams. Write a program that reads the number of\n",
    "widgets and the number of gizmos from the user. Then your program should compute\n",
    "and display the total weight of the parts (15 lines)."
   ]
  },
  {
   "cell_type": "code",
   "execution_count": 11,
   "id": "386a6611",
   "metadata": {},
   "outputs": [
    {
     "name": "stdout",
     "output_type": "stream",
     "text": [
      "Enter the no.of widgets:7\n",
      "Enter the no.of gizmos:12\n",
      "The total weight is: 1869 grams.\n"
     ]
    }
   ],
   "source": [
    "# Asks the user to enter how many widgets and gizmos he/she has\n",
    "widget = int(input(\"Enter the no.of widgets:\"))\n",
    "gizmo = int(input(\"Enter the no.of gizmos:\"))\n",
    "\n",
    "# Calculates the total weight of both widgets and gizmos\n",
    "total_weight = (widget * 75) + (gizmo * 112)\n",
    "\n",
    "# Displays the total weight of both widgets and gizmos\n",
    "print(\"The total weight is:\",total_weight,\"grams.\")\n"
   ]
  },
  {
   "cell_type": "markdown",
   "id": "8b96eab8",
   "metadata": {},
   "source": [
    "## Exercise 9 - Compound Interest"
   ]
  },
  {
   "cell_type": "markdown",
   "id": "613c05f4",
   "metadata": {},
   "source": [
    "Pretend that you have just opened a new savings account that earns 4 percent interest\n",
    "per year. The interest that you earn is paid at the end of the year, and is added to the\n",
    "balance of the savings account. Write a program that begins by reading the amount of\n",
    "money deposited into the account from the user. Then your program should compute\n",
    "and display the amount in the savings account after 1, 2, and 3 years. Display each\n",
    "amount so that it is rounded to 2 decimal places (19 lines)."
   ]
  },
  {
   "cell_type": "code",
   "execution_count": 14,
   "id": "f1d4d753",
   "metadata": {},
   "outputs": [
    {
     "name": "stdout",
     "output_type": "stream",
     "text": [
      "Enter the amount of money deposited:10000\n",
      "Amount after 1 year:$10400.00\n",
      "Amount after 2 years:$10816.00\n",
      "Amount after 3 years:$11248.64\n"
     ]
    }
   ],
   "source": [
    "# Asks the user to enter the amount of money he/she deposited\n",
    "deposit = float(input(\"Enter the amount of money deposited:\"))\n",
    "\n",
    "# Calculates the amount of the savings account after 1, 2, and 3 years\n",
    "amount_1 = deposit + (deposit * 0.04)\n",
    "amount_2 = amount_1 + (amount_1 * 0.04)\n",
    "amount_3 = amount_2 + (amount_2 * 0.04)\n",
    "\n",
    "# Displays the amount of the savings account after 1, 2, and 3 years\n",
    "print(\"Amount after 1 year:$%.2f\" % (amount_1))\n",
    "print(\"Amount after 2 years:$%.2f\" % (amount_2))\n",
    "print(\"Amount after 3 years:$%.2f\" % (amount_3))"
   ]
  },
  {
   "cell_type": "markdown",
   "id": "6fcd44cb",
   "metadata": {},
   "source": [
    "## Exercise 10 - Arithmetic"
   ]
  },
  {
   "cell_type": "markdown",
   "id": "1caeeffa",
   "metadata": {},
   "source": [
    "Create a program that reads two integers, a and b, from the user.Your program should\n",
    "compute and display:\n",
    "- The sum of a and b\n",
    "- The difference when b is subtracted from a\n",
    "- The product of a and b\n",
    "- The quotient when a is divided by b\n",
    "- The remainder when a is divided by b\n",
    "- The result of log10 a\n",
    "- The result of a^b\n",
    "\n",
    "(22 lines)\n",
    "\n",
    "**Hint: You will probably find the log10 function in the math module helpful\n",
    "for computing the second last item in the list.**"
   ]
  },
  {
   "cell_type": "code",
   "execution_count": 16,
   "id": "b6815375",
   "metadata": {},
   "outputs": [
    {
     "name": "stdout",
     "output_type": "stream",
     "text": [
      "Enter the first number:7\n",
      "Enter the second number:4\n",
      "The sum is: 11\n",
      "The difference is: 3\n",
      "The product is: 28\n",
      "The quotient is: 1.75\n",
      "The remainder is: 3\n",
      "The base-10 logarithm of 7 is: 0.8450980400142568\n",
      "7 raised to 4 is: 2401\n"
     ]
    }
   ],
   "source": [
    "# Import log10 function from the math module\n",
    "from math import log10\n",
    "\n",
    "# Asks the user to input two integers\n",
    "a = int(input(\"Enter the first number:\"))\n",
    "b = int(input(\"Enter the second number:\"))\n",
    "\n",
    "# Performs the mathematical operations\n",
    "sum = a + b\n",
    "difference = a - b\n",
    "product = a * b\n",
    "quotient = a / b\n",
    "remainder = a % b\n",
    "log_10 = log10(a)\n",
    "exponent = a ** b\n",
    "\n",
    "# Displays the answers of each mathematical operations\n",
    "print(\"The sum is:\",sum)\n",
    "print(\"The difference is:\",difference)\n",
    "print(\"The product is:\",product)\n",
    "print(\"The quotient is:\",quotient)\n",
    "print(\"The remainder is:\",remainder)\n",
    "print(\"The base-10 logarithm of\",a,\"is:\",log_10)\n",
    "print(a,\"raised to\",b,\"is:\",exponent)"
   ]
  }
 ],
 "metadata": {
  "kernelspec": {
   "display_name": "Python 3 (ipykernel)",
   "language": "python",
   "name": "python3"
  },
  "language_info": {
   "codemirror_mode": {
    "name": "ipython",
    "version": 3
   },
   "file_extension": ".py",
   "mimetype": "text/x-python",
   "name": "python",
   "nbconvert_exporter": "python",
   "pygments_lexer": "ipython3",
   "version": "3.8.8"
  }
 },
 "nbformat": 4,
 "nbformat_minor": 5
}
