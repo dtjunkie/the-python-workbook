{
 "cells": [
  {
   "cell_type": "markdown",
   "id": "abe96eff",
   "metadata": {},
   "source": [
    "# Introduction To Programming (Exercises, Part 4)"
   ]
  },
  {
   "cell_type": "markdown",
   "id": "156ab0e2",
   "metadata": {},
   "source": [
    "## Exercise 31 - Units of Pressure\n",
    "\n",
    "In this exercise you will create a program that reads a pressure from the user in kilopascals. Once the pressure has been read your program should report the equivalent\n",
    "pressure in pounds per square inch, millimeters of mercury and atmospheres. Use\n",
    "your research skills to determine the conversion factors between these units (20 lines)."
   ]
  },
  {
   "cell_type": "code",
   "execution_count": 3,
   "id": "7cd58031",
   "metadata": {},
   "outputs": [
    {
     "name": "stdout",
     "output_type": "stream",
     "text": [
      "Enter the pressure(in kPa):200\n",
      "Pressure in psi: 29.01\n",
      "Pressure in mm Hg: 1500.12\n",
      "Pressure in atm: 1.97\n"
     ]
    }
   ],
   "source": [
    "# Asks the user to enter the pressure in kilopascals\n",
    "kPa = int(input(\"Enter the pressure(in kPa):\"))\n",
    "\n",
    "# Converts the pressure in psi, mm Hg, and atm\n",
    "psi = kPa * 0.14504\n",
    "mm_Hg = kPa * 7.50062\n",
    "atm = kPa * 0.00987\n",
    "\n",
    "# Displays the converted pressure in psi, mm Hg, and atm\n",
    "print(\"Pressure in psi:\", round(psi,2))\n",
    "print(\"Pressure in mm Hg:\", round(mm_Hg,2))\n",
    "print(\"Pressure in atm:\", round(atm,2))"
   ]
  },
  {
   "cell_type": "markdown",
   "id": "62b32283",
   "metadata": {},
   "source": [
    "## Exercise 32 - Sum of the Digits in an Integer\n",
    "\n",
    "Develop a program that reads a four-digit integer from the user and displays the sum\n",
    "of its digits. For example, if the user enters 3141 then your program should display\n",
    "3+1+4+1=9 (18 lines)."
   ]
  },
  {
   "cell_type": "code",
   "execution_count": 7,
   "id": "930ed5a7",
   "metadata": {},
   "outputs": [
    {
     "name": "stdout",
     "output_type": "stream",
     "text": [
      "Enter the number:3141\n",
      "The sum of the digits of the integer is: 9\n"
     ]
    }
   ],
   "source": [
    "# Asks the user to enter the number\n",
    "num = int(input(\"Enter the number:\"))\n",
    "\n",
    "# Extracts the digits from the integers\n",
    "thou = num // 1000\n",
    "hund = (num - (thou * 1000)) // 100\n",
    "tens = (num - (thou * 1000) - (hund * 100)) // 10\n",
    "ones = (num - (thou * 1000) - (hund * 100) - (tens * 10))\n",
    "\n",
    "# Displays the sum of the digits of the integer:\n",
    "print(\"The sum of the digits of the integer is:\",thou + hund + tens + ones)"
   ]
  },
  {
   "cell_type": "markdown",
   "id": "474c598d",
   "metadata": {},
   "source": [
    "## Exercise 33: Sort 3 Integers\n",
    "\n",
    "Create a program that reads three integers from the user and displays them in sorted\n",
    "order (from smallest to largest). Use the min and max functions to find the smallest\n",
    "and largest values. The middle value can be found by computing the sum of all three\n",
    "values, and then subtracting the minimum value and the maximum value (19 lines)."
   ]
  },
  {
   "cell_type": "code",
   "execution_count": 8,
   "id": "435c9be7",
   "metadata": {},
   "outputs": [
    {
     "name": "stdout",
     "output_type": "stream",
     "text": [
      "Enter your first number:42\n",
      "Enter your second number:17\n",
      "Enter your third number:20\n",
      "The numbers are:\n",
      "  17\n",
      "  20\n",
      "  42\n"
     ]
    }
   ],
   "source": [
    "# Asks the user to enter three numbers\n",
    "num_1 = int(input(\"Enter your first number:\"))\n",
    "num_2 = int(input(\"Enter your second number:\"))\n",
    "num_3 = int(input(\"Enter your third number:\"))\n",
    "\n",
    "# Sorts the numbers in ascending order\n",
    "min_val = min(num_1, num_2, num_3)\n",
    "max_val = max(num_1, num_2, num_3)\n",
    "mid_val = num_1 + num_2 + num_3 - min_val - max_val\n",
    "\n",
    "# Display the sorted numbers in ascending order\n",
    "print (\"The numbers are:\")\n",
    "print(\" \", min_val)\n",
    "print(\" \", mid_val)\n",
    "print(\" \", max_val)"
   ]
  },
  {
   "cell_type": "markdown",
   "id": "dd876d1c",
   "metadata": {},
   "source": [
    "## Exercise 34 -  Day Old Bread\n",
    "\n",
    "A bakery sells loaves of bread for $3.49 each. Day old bread is discounted by 60\n",
    "percent. Write a program that begins by reading the number of loaves of day old\n",
    "bread being purchased from the user. Then your program should display the regular\n",
    "price for the bread, the discount because it is a day old, and the total price. Each of\n",
    "these amounts should be displayed on its own line with an appropriate label. All of\n",
    "the values should be displayed using two decimal places, and the decimal points in\n",
    "all of the numbers should be aligned when reasonable values are entered by the user (19 lines)."
   ]
  },
  {
   "cell_type": "code",
   "execution_count": 18,
   "id": "3224cfdc",
   "metadata": {},
   "outputs": [
    {
     "name": "stdout",
     "output_type": "stream",
     "text": [
      "How many loaves of day old bread? 5\n",
      "Regular Price:  3.49 $\n",
      "Discount:      60.00 %\n",
      "Total Price:    6.98 $\n"
     ]
    }
   ],
   "source": [
    "# Asks the user if how many loaves of day old bread will he/she purchase\n",
    "loaves = int(input(\"How many loaves of day old bread? \"))\n",
    "\n",
    "# Calculates the total price of the purchased day old bread\n",
    "reg_price = 3.49\n",
    "discount = 0.60\n",
    "dis_price = reg_price - (reg_price * 0.60)\n",
    "total_price = dis_price * loaves\n",
    "\n",
    "# Displays the information to the user\n",
    "print(\"Regular Price: \", reg_price,\"$\")\n",
    "print(\"Discount:      60.00 %\")\n",
    "print(\"Total Price:   \",round(total_price,2),\"$\")"
   ]
  },
  {
   "cell_type": "code",
   "execution_count": null,
   "id": "cb1ef4ad",
   "metadata": {},
   "outputs": [],
   "source": []
  }
 ],
 "metadata": {
  "kernelspec": {
   "display_name": "Python 3",
   "language": "python",
   "name": "python3"
  },
  "language_info": {
   "codemirror_mode": {
    "name": "ipython",
    "version": 3
   },
   "file_extension": ".py",
   "mimetype": "text/x-python",
   "name": "python",
   "nbconvert_exporter": "python",
   "pygments_lexer": "ipython3",
   "version": "3.8.8"
  }
 },
 "nbformat": 4,
 "nbformat_minor": 5
}
