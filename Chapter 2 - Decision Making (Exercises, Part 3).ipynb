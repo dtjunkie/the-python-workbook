{
 "cells": [
  {
   "cell_type": "markdown",
   "id": "9ca97d5f",
   "metadata": {},
   "source": [
    "## Decision Making (Exercises, Part 3)"
   ]
  },
  {
   "cell_type": "markdown",
   "id": "f19abbb3",
   "metadata": {},
   "source": [
    "## Exercise 51 - Roots of a Quadratic Function\n",
    "\n",
    "A univariate quadratic function has the form $f (x) = ax^2 +bx +c$, where $a$, $b$ and $c$\n",
    "are constants, and $a$ is non-zero. Its roots can be identified by finding the values of $x$\n",
    "that satisfy the quadratic equation $ax^2 + bx + c = 0$. These values can be computed\n",
    "using the quadratic formula, shown below. A quadratic function may have 0, 1 or 2\n",
    "real roots.\n",
    "\n",
    "$$ root = \\frac{-b±\\sqrt{b^2-4ac}}{2a} $$\n",
    "\n",
    "The portion of the expression under the square root sign is called the discriminant.\n",
    "If the discriminant is negative then the quadratic equation does not have any real\n",
    "roots. If the discriminant is 0, then the equation has one real root. Otherwise the\n",
    "equation has two real roots, and the expression must be evaluated twice, once using\n",
    "a plus sign, and once using a minus sign, when computing the numerator.\n",
    "Write a program that computes the real roots of a quadratic function. Your program should begin by prompting the user for the values of $a$, $b$ and $c$. Then it should\n",
    "display a message indicating the number of real roots, along with the values of the\n",
    "real roots (if any) (24 lines)."
   ]
  },
  {
   "cell_type": "code",
   "execution_count": 22,
   "id": "110acdb5",
   "metadata": {},
   "outputs": [
    {
     "name": "stdout",
     "output_type": "stream",
     "text": [
      "Enter the number for constant a: 5\n",
      "Enter the number for constant b: 6\n",
      "Enter the number for constant c: 1\n",
      "This quadratic equation does have two real roots:  -0.2 & -1.0\n"
     ]
    }
   ],
   "source": [
    "# Imports the sqrt function from the Python math module\n",
    "from math import sqrt\n",
    "\n",
    "# Asks the user to input constants a, b, and c\n",
    "a = int(input(\"Enter the number for constant a: \"))\n",
    "b = int(input(\"Enter the number for constant b: \"))\n",
    "c = int(input(\"Enter the number for constant c: \"))\n",
    "\n",
    "# Calculates the discriminant\n",
    "disc = (b ** 2) - (4 * a * c)\n",
    "\n",
    "# Decides which action will be taken and statement to be displayed based on the value of the discriminant \n",
    "if disc < 0:\n",
    "    print(\"This quadratic equation does not have any real root.\")\n",
    "else:\n",
    "    root_1 = (-b + sqrt(disc))/(2 * a)\n",
    "    root_2 = (-b - sqrt(disc))/(2 * a)\n",
    "    if disc == 0:\n",
    "        print(\"This quadratic equation does have one real root: \",root_1)\n",
    "    else:\n",
    "        print(\"This quadratic equation does have two real roots: \",root_1,\"&\",root_2)       "
   ]
  },
  {
   "cell_type": "markdown",
   "id": "f5169557",
   "metadata": {},
   "source": [
    "## Exercise 52 - Letter Grade to Grade Points\n",
    "\n",
    "At a particular university, letter grades are mapped to grade points in the following\n",
    "manner:\n",
    "\n",
    "| Letter  | Grade Points |\n",
    "|---------|--------------|\n",
    "|   A+    |      4.0     |\n",
    "|   A     |      4.0     |\n",
    "|   A-    |      3.7     |\n",
    "|   B+    |      3.3     |\n",
    "|   B     |      3.0     |\n",
    "|   B-    |      2.7     |\n",
    "|   C+    |      2.3     |\n",
    "|   C     |      2.0     |\n",
    "|   C-    |      1.7     |\n",
    "|   D+    |      1.3     |\n",
    "|   D     |      1.0     |\n",
    "|   F     |      0       |\n",
    "\n",
    "Write a program that begins by reading a letter grade from the user. Then your\n",
    "program should compute and display the equivalent number of grade points. Ensure\n",
    "that your program generates an appropriate error message if the user enters an invalid\n",
    "letter grade(52 lines)."
   ]
  },
  {
   "cell_type": "code",
   "execution_count": 4,
   "id": "21f9898b",
   "metadata": {},
   "outputs": [
    {
     "name": "stdout",
     "output_type": "stream",
     "text": [
      "Enter your letter grade: A+\n",
      "The equivalent grade point is: 4.0\n"
     ]
    }
   ],
   "source": [
    "# Asks the user to input his/her letter grade\n",
    "letter_grade = input(\"Enter your letter grade: \")\n",
    "\n",
    "# Determines which statement will be printed based on the letter grade\n",
    "if letter_grade == \"A+\":\n",
    "    print(\"The equivalent grade point is: 4.0\")\n",
    "elif letter_grade == \"A\":\n",
    "    print(\"The equivalent grade point is: 4.0\")\n",
    "elif letter_grade == \"A-\":\n",
    "    print(\"The equivalent grade point is: 3.7\")\n",
    "elif letter_grade == \"B+\":\n",
    "    print(\"The equivalent grade point is: 3.3\")\n",
    "elif letter_grade == \"B\":\n",
    "    print(\"The equivalent grade point is: 3.0\")\n",
    "elif letter_grade == \"B-\":\n",
    "    print(\"The equivalent grade point is: 2.7\")\n",
    "elif letter_grade == \"C+\":\n",
    "    print(\"The equivalent grade point is: 2.3\")\n",
    "elif letter_grade == \"C\":\n",
    "    print(\"The equivalent grade point is: 2.0\")\n",
    "elif letter_grade == \"C-\":\n",
    "    print(\"The equivalent grade point is: 1.7\")\n",
    "elif letter_grade == \"D+\":\n",
    "    print(\"The equivalent grade point is: 1.3\")\n",
    "elif letter_grade == \"D\":\n",
    "    print(\"The equivalent grade point is: 1.0\")\n",
    "elif letter_grade == \"F\":\n",
    "    print(\"The equivalent grade point is: 0\")\n",
    "else:\n",
    "    print(\"Invalid input.\")"
   ]
  },
  {
   "cell_type": "markdown",
   "id": "a9996a56",
   "metadata": {},
   "source": [
    "## Exercise 53: Grade Points to Letter Grade\n",
    "\n",
    "In the previous exercise you created a program that converted a letter grade into the\n",
    "equivalent number of grade points. In this exercise you will create a program that\n",
    "reverses the process and converts from a grade point value entered by the user to a\n",
    "letter grade. Ensure that your program handles grade point values that fall between\n",
    "letter grades. These should be rounded to the closest letter grade. Your program\n",
    "should report A+ if the value entered by the user is 4.0 or more(47 lines)."
   ]
  },
  {
   "cell_type": "code",
   "execution_count": 23,
   "id": "a2bab4d0",
   "metadata": {},
   "outputs": [
    {
     "name": "stdout",
     "output_type": "stream",
     "text": [
      "Enter your numerical grade: 3.99\n",
      "Your grade is: A-\n"
     ]
    }
   ],
   "source": [
    "# Asks the user to enter his/her numerical grade\n",
    "num_grade = float(input(\"Enter your numerical grade: \"))\n",
    "\n",
    "# Determines which statement is to be displayed based on the numerical grade\n",
    "if num_grade >=4.0:\n",
    "    print(\"Your grade is: A+\")\n",
    "elif num_grade == 4.0:\n",
    "    print(\"Your grade is: A\")\n",
    "elif num_grade >= 3.7:\n",
    "    print(\"Your grade is: A-\")\n",
    "elif num_grade >= 3.3:\n",
    "    print(\"Your grade is: B+\")\n",
    "elif num_grade >= 3.0:\n",
    "    print(\"Your grade is: B\")\n",
    "elif num_grade >= 2.7:\n",
    "    print(\"Your grade is: B-\")\n",
    "elif num_grade >= 2.3:\n",
    "    print(\"Your grade is: C+\")\n",
    "elif num_grade >= 2.0:\n",
    "    print(\"Your grade is: C\")\n",
    "elif num_grade >= 1.7:\n",
    "    print(\"Your grade is: C-\")\n",
    "elif num_grade >= 1.3:\n",
    "    print(\"Your grade is: C-\")\n",
    "elif num_grade >= 1.0:\n",
    "    print(\"Your grade is: D+\")\n",
    "elif num_grade >= 0:\n",
    "    print(\"Your grade is: F\")\n",
    "else:\n",
    "    print(\"Invalid value.\")"
   ]
  },
  {
   "cell_type": "code",
   "execution_count": 27,
   "id": "0f8691be",
   "metadata": {},
   "outputs": [
    {
     "name": "stdout",
     "output_type": "stream",
     "text": [
      "7\n"
     ]
    }
   ],
   "source": [
    "list = 7\n",
    "print(list)"
   ]
  },
  {
   "cell_type": "markdown",
   "id": "74279b21",
   "metadata": {},
   "source": [
    "## Exercise 54: Assessing Employees\n",
    "\n",
    "At a particular company, employees are rated at the end of each year. The rating scale\n",
    "begins at 0.0, with higher values indicating better performance and resulting in larger\n",
    "raises. The value awarded to an employee is either 0.0, 0.4, or 0.6 or more. Values\n",
    "between 0.0 and 0.4, and between 0.4 and 0.6 are never used. The meaning associated\n",
    "with each rating is shown in the following table. The amount of an employee’s raise\n",
    "is $2,400.00 multiplied by their rating.\n",
    "\n",
    "| Rating   |      Meaning                 |\n",
    "|----------|------------------------------|\n",
    "| 0.0      | Unacceptable Performance     |\n",
    "| 0.4      | Acceptable Performance       |\n",
    "| 0.6      | Meritorious Performance      |\n",
    "\n",
    "Write a program that reads a rating from the user and indicates whether the performance for that rating is unacceptable, acceptable or meritorious. The amount\n",
    "of the employee’s raise should also be reported. Your program should display an\n",
    "appropriate error message if an invalid rating is entered(30 Lines)."
   ]
  },
  {
   "cell_type": "code",
   "execution_count": 11,
   "id": "bf3cadde",
   "metadata": {},
   "outputs": [
    {
     "name": "stdout",
     "output_type": "stream",
     "text": [
      "Enter your rating: 0.1\n",
      "Invalid rating.\n"
     ]
    }
   ],
   "source": [
    "# Asks the employee to enter his/her rating:\n",
    "rating = float(input(\"Enter your rating: \"))\n",
    "\n",
    "# Calculates the performance raise\n",
    "performance_raise = 2400 * rating\n",
    "\n",
    "# Determines which action will be executed and statement to be displayed based on the employee's rating\n",
    "if rating == 0.0:\n",
    "    print (\"Your rating is unacceptable. Your performance raise is $%.2f.\" % (performance_raise))\n",
    "elif rating == 0.4:\n",
    "    print (\"Your rating is acceptable. Your performance raise is $%.2f.\" % (performance_raise))\n",
    "elif rating >= 0.6:\n",
    "    print (\"Your rating is meritorious. Your performance raise is $%.2f.\" % (performance_raise))\n",
    "else:\n",
    "    print(\"Invalid rating.\")"
   ]
  },
  {
   "cell_type": "markdown",
   "id": "843499d3",
   "metadata": {},
   "source": [
    "## Exercise 55 - Wavelengths of Visible Light\n",
    "\n",
    "The wavelength of visible light ranges from 380 to 750 nanometers (nm). While the\n",
    "spectrum is continuous, it is often divided into 6 colors as shown below:\n",
    "\n",
    "|Color |Wavelength (nm)      |\n",
    "|------|---------------------|\n",
    "|Violet| 380 to less than 450|\n",
    "|Blue  | 450 to less than 495|\n",
    "|Green | 495 to less than 570|\n",
    "|Yellow| 570 to less than 590|\n",
    "|Orange| 590 to less than 620|\n",
    "|Red   | 620 to 750          |\n",
    "\n",
    "Write a program that reads a wavelength from the user and reports its color. Display\n",
    "an appropriate error message if the wavelength entered by the user is outside of the\n",
    "visible spectrum (38 lines)."
   ]
  },
  {
   "cell_type": "code",
   "execution_count": 9,
   "id": "837336d9",
   "metadata": {},
   "outputs": [
    {
     "name": "stdout",
     "output_type": "stream",
     "text": [
      "Enter the wavelength(in nm): 749\n",
      "The color is red.\n"
     ]
    }
   ],
   "source": [
    "# Asks the user to enter the wavelength\n",
    "wavelength = float(input(\"Enter the wavelength(in nm): \"))\n",
    "\n",
    "# Decides which statement to be displayed based on the wavelength\n",
    "if wavelength < 380 or wavelength > 750:\n",
    "    print(\"The wavelength you entered is outside the visible spectrum.\")\n",
    "else:\n",
    "    if wavelength == 380 or wavelength < 450:\n",
    "        print(\"The color is violet.\")\n",
    "    elif wavelength == 450 or wavelength < 495:\n",
    "        print(\"The color is blue.\")\n",
    "    elif wavelength == 495 or wavelength < 570:\n",
    "        print(\"The color is green.\")\n",
    "    elif wavelength == 570 or wavelength < 590:\n",
    "        print(\"The color is yellow.\")\n",
    "    elif wavelength == 590 or wavelength < 620:\n",
    "        print(\"The color is orange.\")\n",
    "    else:\n",
    "        print(\"The color is red.\")"
   ]
  },
  {
   "cell_type": "markdown",
   "id": "e2dc2832",
   "metadata": {},
   "source": [
    "## Exercise 56 - Frequency to Name\n",
    "\n",
    "Electromagnetic radiation can be classified into one of 7 categories according to its\n",
    "frequency, as shown in the table below:\n",
    "\n",
    "|Name  |Frequency Range (hz) |\n",
    "|------|---------------------|\n",
    "|Radio Waves| Less than $3$ x $10^9$ |\n",
    "|Microwaves  | $3$ x $10^9$ to less than $3$ x $10^{12}$ |\n",
    "|Infrared Light | $3$ x $10^{12}$ to less than $4.3$ x $10^{14}$ |\n",
    "|Visible Light | $4.3$ x $10^{14}$ to less than $7.5$ x $10^{14}$ |\n",
    "|Ultraviolet Light | $7.5$ x $10^{14}$ to less than $3$ x $10^{17}$ |\n",
    "|X-Rays | $3$ x $10^{17}$ to less than $3$ x $10^{19}$ |\n",
    "|Gamma Rays | $3$ x $10^{19}$ or more |\n",
    "\n",
    "Write a program that reads the frequency of some radiation from the user and\n",
    "displays name of the radiation as part of an appropriate message (31 lines)."
   ]
  },
  {
   "cell_type": "code",
   "execution_count": 15,
   "id": "e32dff08",
   "metadata": {},
   "outputs": [
    {
     "name": "stdout",
     "output_type": "stream",
     "text": [
      "Enter the frequency (in hz):3e19\n",
      "The frequency is within the spectrum of gamma rays.\n"
     ]
    }
   ],
   "source": [
    "# Asks the user to enter the frequency\n",
    "frequency = float(input(\"Enter the frequency (in hz):\"))\n",
    "\n",
    "# Decides which statement to be displayed based on the frequency\n",
    "if frequency < 3e9:\n",
    "    print(\"The frequency is within the spectrum of radio waves.\")\n",
    "elif frequency == 3e9 or frequency < 3e12:\n",
    "    print(\"The frequency is within the spectrum of microwaves.\")\n",
    "elif frequency == 3e12 or frequency < 4.3e14:\n",
    "    print(\"The frequency is within the spectrum of an infrared light.\")\n",
    "elif frequency == 4.3e14 or frequency < 7.5e14:\n",
    "    print(\"The frequency is within the spectrum of a visible light.\")\n",
    "elif frequency == 7.5e14 or frequency < 3e17:\n",
    "    print(\"The frequency is within the spectrum of an ultraviolet light.\")\n",
    "elif frequency == 3e17 or frequency < 3e19:\n",
    "    print(\"The frequency is within the spectrum of X-rays.\")\n",
    "else:\n",
    "    print(\"The frequency is within the spectrum of gamma rays.\")"
   ]
  },
  {
   "cell_type": "markdown",
   "id": "b01a7f2c",
   "metadata": {},
   "source": [
    "## Exercise 57 - Cell Phone Bill\n",
    "\n",
    "A particular cell phone plan includes 50 minutes of air time and 50 text messages\n",
    "for $\\$15.00 $ a month. Each additional minute of air time costs $\\$0.25 $, while additional\n",
    "text messages cost $\\$0.15 $ each. All cell phone bills include an additional charge of\n",
    "$\\$0.44 $ to support 911 call centers, and the entire bill (including the 911 charge) is\n",
    "subject to 5 percent sales tax.\n",
    "Write a program that reads the number of minutes and text messages used in a\n",
    "month from the user. Display the base charge, additional minutes charge (if any),\n",
    "additional text message charge (if any), the 911 fee, tax and total bill amount. Only\n",
    "display the additional minute and text message charges if the user incurred costs in\n",
    "these categories. Ensure that all of the charges are displayed using 2 decimal places (44 lines)."
   ]
  },
  {
   "cell_type": "code",
   "execution_count": 50,
   "id": "d156435b",
   "metadata": {},
   "outputs": [
    {
     "name": "stdout",
     "output_type": "stream",
     "text": [
      "Enter the number of call minutes this month: 51\n",
      "Enter the number of text messages this month: 51\n",
      "Base Charge: \t\t  $ 15.00\n",
      "911 Fee: \t\t  $  0.44\n",
      "Additional Minute Charge: $  0.25\n",
      "Additional Text Charge:   $  0.15\n",
      "Sales Tax: \t\t  $  0.79\n",
      "---------------------------------\n",
      "TOTAL BILL: \t\t $  16.63\n"
     ]
    }
   ],
   "source": [
    "# Asks the user to enter his/her number of call minutes and text messages\n",
    "calls = int(input(\"Enter the number of call minutes this month: \"))\n",
    "texts = int(input(\"Enter the number of text messages this month: \"))\n",
    "\n",
    "# Places the value for base charge and the 911 fee\n",
    "base_charge = 15.00\n",
    "nine_one_one_fee = 0.44\n",
    "\n",
    "# Displays the base charge and the 911 fee\n",
    "print(\"Base Charge: \\t\\t  $ %.2f\" % (base_charge))\n",
    "print(\"911 Fee: \\t\\t  $  %.2f\" % (nine_one_one_fee))\n",
    "\n",
    "# Determines which action to be taken and which statement is to be displayed based on the user's input\n",
    "if calls > 50:\n",
    "    add_calls = (calls - 50) * 0.25\n",
    "    print(\"Additional Minute Charge: $  %.2f\" % (add_calls))\n",
    "    if texts > 50:\n",
    "        add_texts = (texts - 50) * 0.15\n",
    "        sales_tax = (base_charge + add_calls + add_texts + nine_one_one_fee) * 0.05\n",
    "        total = base_charge + add_calls + add_texts + nine_one_one_fee + sales_tax\n",
    "        print(\"Additional Text Charge:   $  %.2f\" % (add_texts))\n",
    "        print(\"Sales Tax: \\t\\t  $  %.2f\" % (sales_tax))\n",
    "        print(\"---------------------------------\")\n",
    "        print(\"TOTAL BILL: \\t\\t $  %.2f\" % (total))\n",
    "    else:\n",
    "        sales_tax = (base_charge + add_calls + nine_one_one_fee) * 0.05\n",
    "        total = base_charge + add_calls + nine_one_one_fee + sales_tax\n",
    "        print(\"Sales Tax: \\t\\t  $  %.2f\" % (sales_tax))\n",
    "        print(\"---------------------------------\")\n",
    "        print(\"TOTAL BILL: \\t\\t $  %.2f\" % (total))\n",
    "else:\n",
    "    if texts > 50:\n",
    "        add_texts = (texts - 50) * 0.15\n",
    "        sales_tax = (base_charge + add_texts + nine_one_one_fee) * 0.05\n",
    "        total = base_charge + add_texts + nine_one_one_fee + sales_tax\n",
    "        print(\"Additional Text Charge:   $  %.2f\" % (add_texts))\n",
    "        print(\"Sales Tax: \\t\\t  $  %.2f\" % (sales_tax))\n",
    "        print(\"---------------------------------\")\n",
    "        print(\"TOTAL BILL: \\t\\t $  %.2f\" % (total))\n",
    "    else:\n",
    "        sales_tax = (base_charge + nine_one_one_fee) * 0.05\n",
    "        total = base_charge + nine_one_one_fee + sales_tax\n",
    "        print(\"Sales Tax: \\t\\t  $  %.2f\" % (sales_tax))\n",
    "        print(\"---------------------------------\")\n",
    "        print(\"TOTAL BILL: \\t\\t $  %.2f\" % (total))"
   ]
  },
  {
   "cell_type": "markdown",
   "id": "ea51c363",
   "metadata": {},
   "source": [
    "## Exercise 58 -  Is It a Leap Year?\n",
    "\n",
    "Most years have 365 days. However, the time required for the Earth to orbit the Sun\n",
    "is actually slightly more than that. As a result, an extra day, February 29, is included\n",
    "in some years to correct for this difference. Such years are referred to as leap years.\n",
    "The rules for determining whether or not a year is a leap year follow:\n",
    "\n",
    "- Any year that is divisible by 400 is a leap year.\n",
    "- Of the remaining years, any year that is divisible by 100 is not a leap year.\n",
    "- Of the remaining years, any year that is divisible by 4 is a leap year.\n",
    "- All other years are not leap years.\n",
    "\n",
    "Write a program that reads a year from the user and displays a message indicating\n",
    "whether or not it is a leap year (22 lines)."
   ]
  },
  {
   "cell_type": "code",
   "execution_count": 24,
   "id": "cb5310d9",
   "metadata": {},
   "outputs": [
    {
     "name": "stdout",
     "output_type": "stream",
     "text": [
      "Enter the year: 2200\n",
      "2200 is a leap year.\n"
     ]
    }
   ],
   "source": [
    "# Asks the user to input the year\n",
    "year = int(input(\"Enter the year: \"))\n",
    "\n",
    "# Determines if the year is divisible by 400\n",
    "div_400 = year % 400\n",
    "\n",
    "# Determines if the year is divisible by 100\n",
    "div_100 = year % 100\n",
    "\n",
    "# Determines if the year is divisible by 4\n",
    "div_4 = year % 4\n",
    "\n",
    "# Determines which statement to be displayed based on the input\n",
    "if div_400 == 0 or div_4 == 0:\n",
    "    print(f\"{year} is a leap year.\")\n",
    "elif div_100 == 0:\n",
    "    if div_4 == 0:\n",
    "        print(f\"{year} is a leap year.\")\n",
    "    else:\n",
    "        print(f\"{year} is not a leap year.\")\n",
    "else:\n",
    "    print(f\"{year} is not a leap year.\")"
   ]
  },
  {
   "cell_type": "markdown",
   "id": "9cb1e47f",
   "metadata": {},
   "source": [
    "## Exercise 59 -  Next Day\n",
    "\n",
    "Write a program that reads a date from the user and computes its immediate successor.\n",
    "For example, if the user enters values that represent 2019-11-18 then your program\n",
    "should display a message indicating that the day immediately after 2019-11-18 is\n",
    "2019-11-19. If the user enters values that represent 2019-11-30 then the program\n",
    "should indicate that the next day is 2019-12-01. If the user enters values that represent\n",
    "2019-12-31 then the program should indicate that the next day is 2020-01-01. The\n",
    "date will be entered in numeric form with three separate input statements; one for\n",
    "the year, one for the month, and one for the day. Ensure that your program works\n",
    "correctly for leap years (50 lines)."
   ]
  },
  {
   "cell_type": "code",
   "execution_count": 24,
   "id": "8b7d10c5",
   "metadata": {},
   "outputs": [
    {
     "name": "stdout",
     "output_type": "stream",
     "text": [
      "Enter the year: 2020\n",
      "Enter the month number: 11\n",
      "Enter the day number: 9\n",
      "Tomorrow is: 2020-11-10\n"
     ]
    }
   ],
   "source": [
    "# Asks the user to input the date\n",
    "year = int(input(\"Enter the year: \"))\n",
    "month = int(input(\"Enter the month number: \"))\n",
    "day = int(input(\"Enter the day number: \"))\n",
    "\n",
    "# Determines which action will be taken and the statement to be displayed based on the input\n",
    "if month == 1 or month == 3 or month == 5 or month == 7 or month == 8:\n",
    "    if 1 <= day <= 8:\n",
    "        day += 1\n",
    "        print(\"Tomorrow is: \" + str(year) + \"-0\" + str(month) + \"-0\" + str(day))\n",
    "    elif 9 <= day < 31:\n",
    "        day += 1\n",
    "        print(\"Tomorrow is: \" + str(year) + \"-0\" + str(month) + \"-\" + str(day))\n",
    "    elif day == 31:\n",
    "        month += 1\n",
    "        print(\"Tomorrow is: \" + str(year) + \"-0\" + str(month) + \"-01\")\n",
    "    else:\n",
    "        print(\"Invalid date.\")\n",
    "elif month == 4 or month == 6:\n",
    "    if 1 <= day <= 8:\n",
    "        day += 1\n",
    "        print(\"Tomorrow is: \" + str(year) + \"-0\" + str(month) + \"-0\" + str(day))\n",
    "    elif 9 <= day < 30:\n",
    "        day += 1\n",
    "        print(\"Tomorrow is: \" + str(year) + \"-0\" + str(month) + \"-\" + str(day))\n",
    "    elif day == 30:\n",
    "        month += 1\n",
    "        print(\"Tomorrow is: \" + str(year) + \"-0\" + str(month) + \"-01\")\n",
    "    else:\n",
    "        print(\"Invalid date.\")\n",
    "elif month == 2:\n",
    "    if year % 4 == 0:\n",
    "        if 1 <= day <= 8:\n",
    "            day += 1\n",
    "            print(\"Tomorrow is: \" + str(year) + \"-0\" + str(month) + \"-0\"+ str(day))\n",
    "        elif 9 <= day < 29:\n",
    "            day += 1\n",
    "            print(\"Tomorrow is: \" + str(year) + \"-0\" + str(month) + \"-\" + str(day))\n",
    "        elif day == 29:\n",
    "            month += 1\n",
    "            print(\"Tomorrow is: \" + str(year) + \"-0\" + str(month) + \"-01\")\n",
    "        else:\n",
    "            print(\"Invalid date:\")\n",
    "    else:\n",
    "        if 1 <= day <= 8 :\n",
    "            day += 1\n",
    "            print(\"Tomorrow is: \" + str(year) + \"-0\" + str(month) + \"-0\" + str(day))\n",
    "        elif 9 <= day < 28:\n",
    "            day += 1\n",
    "            print(\"Tomorrow is: \" + str(year) + \"-0\" + str(month) + \"-\" + str(day))\n",
    "        elif day == 28:\n",
    "            month += 1\n",
    "            print(\"Tomorrow is: \" + str(year) + \"-0\" + str(month) + \"-01\")\n",
    "        else:\n",
    "            print(\"Invalid date:\")\n",
    "elif month == 9:\n",
    "    if 1 <= day <= 8:\n",
    "        day += 1\n",
    "        print(\"Tomorrow is: \" + str(year) + \"-0\" + str(month) + \"-0\" + str(day))\n",
    "    elif 9 <= day < 30:\n",
    "        day += 1\n",
    "        print(\"Tomorrow is: \" + str(year) + \"-0\" + str(month) + \"-\" + str(day))\n",
    "    elif day == 30:\n",
    "        month += 1\n",
    "        print(\"Tomorrow is: \" + str(year) + \"-\" + str(month) + \"-01\")\n",
    "elif month == 10:\n",
    "    if 1 <= day <= 8:\n",
    "        day += 1\n",
    "        print(\"Tomorrow is: \" + str(year) + \"-\" + str(month) + \"-0\" + str(day))\n",
    "    elif 9 <= day < 31:\n",
    "        day += 1\n",
    "        print(\"Tomorrow is: \" + str(year) + \"-\" + str(month) + \"-\" + str(day))\n",
    "    elif day == 31:\n",
    "        month += 1\n",
    "        print(\"Tomorrow is: \" + str(year) + \"-\" + str(month) + \"-01\")\n",
    "elif month == 11:\n",
    "    if 1 <= day <= 8:\n",
    "        day += 1\n",
    "        print(\"Tomorrow is: \" + str(year) + \"-\" + str(month) + \"-0\" + str(day))\n",
    "    elif 9 <= day < 30:\n",
    "        day += 1\n",
    "        print(\"Tomorrow is: \" + str(year) + \"-\" + str(month) + \"-\" + str(day))\n",
    "    elif day == 30:\n",
    "        month += 1\n",
    "        print(\"Tomorrow is: \" + str(year) + \"-\" + str(month) + \"-01\")\n",
    "elif month == 12:\n",
    "    if 1 <= day <= 8:\n",
    "        day += 1\n",
    "        print(\"Tomorrow is: \" + str(year) + \"-\" + str(month) + \"-0\" + str(day))\n",
    "    elif 9 <= day < 31:\n",
    "        day += 1\n",
    "        print(\"Tomorrow is: \" + str(year) + \"-\" + str(month) + \"-\" + str(day))\n",
    "    elif day == 31:\n",
    "        year +=1\n",
    "        print(\"Tomorrow is: \" + str(year) + \"-01\" + \"-01\")\n",
    "    else:\n",
    "        print(\"Invalid date.\")\n",
    "else:\n",
    "    print(\"Invalid date.\")"
   ]
  },
  {
   "cell_type": "markdown",
   "id": "3b5f7d15",
   "metadata": {},
   "source": [
    "## Exercise 60 - What Day of the Week Is January 1?\n",
    "\n",
    "The following formula can be used to determine the day of the week for January 1\n",
    "in a given year:\n",
    "\n",
    "day_of_the_week = (year + floor((year − 1) / 4) − floor((year − 1) / 100) +\n",
    "floor((year − 1) / 400)) % 7\n",
    "\n",
    "The result calculated by this formula is an integer that represents the day of the\n",
    "week. Sunday is represented by 0. The remaining days of the week following in\n",
    "sequence through to Saturday, which is represented by 6.\n",
    "Use the formula above to write a program that reads a year from the user and\n",
    "reports the day of the week for January 1 of that year. The output from your program\n",
    "should include the full name of the day of the week, not just the integer returned by\n",
    "the formula (32 lines)."
   ]
  },
  {
   "cell_type": "code",
   "execution_count": 26,
   "id": "120d9be5",
   "metadata": {},
   "outputs": [
    {
     "name": "stdout",
     "output_type": "stream",
     "text": [
      "Enter a year: 2001\n",
      "January 1, 2001, falls on Monday.\n"
     ]
    }
   ],
   "source": [
    "# Asks the user to input a year\n",
    "year = int(input(\"Enter a year: \"))\n",
    "\n",
    "# Calculates a integer result that represents the day of the week\n",
    "day_of_the_week = (year + ((year-1)//4) - ((year-1)//100) + ((year-1)//400)) % 7\n",
    "\n",
    "# Decides which day of the week will be displayed\n",
    "if day_of_the_week == 0:\n",
    "    day=\"Sunday\"\n",
    "elif day_of_the_week == 1:\n",
    "    day=\"Monday\"\n",
    "elif day_of_the_week == 2:\n",
    "    day=\"Tuesday\"\n",
    "elif day_of_the_week == 3:\n",
    "    day=\"Wednesday\"\n",
    "elif day_of_the_week == 4:\n",
    "    day=\"Thursday\"\n",
    "elif day_of_the_week == 5:\n",
    "    day=\"Friday\"\n",
    "elif day_of_the_week == 6:\n",
    "    day=\"Saturday\"\n",
    "print(f\"January 1, {year}, falls on {day}.\")\n"
   ]
  },
  {
   "cell_type": "code",
   "execution_count": null,
   "id": "720852e7",
   "metadata": {},
   "outputs": [],
   "source": []
  }
 ],
 "metadata": {
  "kernelspec": {
   "display_name": "Python 3",
   "language": "python",
   "name": "python3"
  },
  "language_info": {
   "codemirror_mode": {
    "name": "ipython",
    "version": 3
   },
   "file_extension": ".py",
   "mimetype": "text/x-python",
   "name": "python",
   "nbconvert_exporter": "python",
   "pygments_lexer": "ipython3",
   "version": "3.8.8"
  }
 },
 "nbformat": 4,
 "nbformat_minor": 5
}
