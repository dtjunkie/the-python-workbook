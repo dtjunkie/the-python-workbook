{
 "cells": [
  {
   "cell_type": "markdown",
   "id": "04846e56",
   "metadata": {},
   "source": [
    "# Decision Making (Exercises, Part 4)"
   ]
  },
  {
   "cell_type": "markdown",
   "id": "5217ec7e",
   "metadata": {},
   "source": [
    "## Exercise 61 -  Is a License Plate Valid?\n",
    "\n",
    "In a particular jurisdiction, older license plates consist of three uppercase letters\n",
    "followed by three digits. When all of the license plates following that pattern had\n",
    "been used, the format was changed to four digits followed by three uppercase letters.\n",
    "Write a program that begins by reading a string of characters from the user. Then\n",
    "your program should display a message indicating whether the characters are valid\n",
    "for an older style license plate or a newer style license plate. Your program should\n",
    "display an appropriate message if the string entered by the user is not valid for either\n",
    "style of license plate (28 lines)."
   ]
  },
  {
   "cell_type": "code",
   "execution_count": 6,
   "id": "9c6fad16",
   "metadata": {},
   "outputs": [
    {
     "name": "stdout",
     "output_type": "stream",
     "text": [
      "Enter your desired license plate number(ex. ABC123 or 1234ABC): LT23\n",
      "The plate number you entered is not valid for a license plate.\n"
     ]
    }
   ],
   "source": [
    "# Asks the user to enter his/her license plate number\n",
    "plate_number = input(\"Enter your desired license plate number(ex. ABC123 or 1234ABC): \")\n",
    "\n",
    "# Decides which statement to be displayed based on the input\n",
    "if len(plate_number) == 6 and \\\n",
    "\"A\" <= plate_number[0] <= \"Z\" and \\\n",
    "\"A\" <= plate_number[1] <= \"Z\" and \\\n",
    "\"A\" <= plate_number[2] <= \"Z\" and \\\n",
    "\"0\" <= plate_number[3] <= \"9\" and \\\n",
    "\"0\" <= plate_number[4] <= \"9\" and \\\n",
    "\"0\" <= plate_number[5] <= \"9\":\n",
    "    print(\"You are eligible for an older style license plate.\")\n",
    "elif len(plate_number) == 7 and \\\n",
    "\"0\" <= plate_number[0] <= \"9\" and \\\n",
    "\"0\" <= plate_number[1] <= \"9\" and \\\n",
    "\"0\" <= plate_number[2] <= \"9\" and \\\n",
    "\"0\" <= plate_number[3] <= \"9\" and \\\n",
    "\"A\" <= plate_number[4] <= \"Z\" and \\\n",
    "\"A\" <= plate_number[5] <= \"Z\" and \\\n",
    "\"A\" <= plate_number[6] <= \"Z\":\n",
    "    print(\"You are eligible for a newer style license plate\")\n",
    "else:\n",
    "    print(\"The plate number you entered is not valid for a license plate.\")"
   ]
  },
  {
   "cell_type": "markdown",
   "id": "c88c6c02",
   "metadata": {},
   "source": [
    "## Exercise 62 -  Roulette Payouts\n",
    "\n",
    "A roulette wheel has 38 spaces on it. Of these spaces, 18 are black, 18 are red, and two\n",
    "are green. The green spaces are numbered 0 and 00. The red spaces are numbered 1,\n",
    "3, 5, 7, 9, 12, 14, 16, 18, 19, 21, 23, 25, 27, 30 32, 34 and 36. The remaining integers\n",
    "between 1 and 36 are used to number the black spaces.\n",
    "Many different bets can be placed in roulette. We will only consider the following\n",
    "subset of them in this exercise:\n",
    "\n",
    "- Single number (1 to 36, 0, or 00)\n",
    "- Red versus Black\n",
    "- Odd versus Even (Note that 0 and 00 do not pay out for even)\n",
    "- 1 to 18 versus 19 to 36\n",
    "\n",
    "Write a program that simulates a spin of a roulette wheel by using Python’s\n",
    "random number generator. Display the number that was selected and all of the bets\n",
    "that must be payed. For example, if 13 is selected then your program should display:\n",
    "\n",
    "<code>\n",
    "The spin resulted in 13...\n",
    "Pay 13\n",
    "Pay Black\n",
    "Pay Odd\n",
    "Pay 1 to 18\n",
    "</code>\n",
    "\n",
    "If the simulation results in 0 or 00 then your program should display Pay 0\n",
    "or Pay 00 without any further output."
   ]
  },
  {
   "cell_type": "code",
   "execution_count": 44,
   "id": "b0db038a",
   "metadata": {},
   "outputs": [
    {
     "name": "stdout",
     "output_type": "stream",
     "text": [
      "The spin resulted in 31 ...\n",
      "Pay 31\n",
      "Pay Black\n",
      "Pay Even\n",
      "Pay 19 to 36\n"
     ]
    }
   ],
   "source": [
    "# Imports randrange function from the random module\n",
    "from random import randrange\n",
    "\n",
    "# Simulates the spin of the roulette wheel and displays the result of the spin\n",
    "value = randrange(0,38)\n",
    "if value == 37:\n",
    "    print(\"The spin resulted in 00...\")\n",
    "else:\n",
    "    print(\"The spin resulted in\",value,\"...\")\n",
    "\n",
    "# Display the payout for the single number\n",
    "if value == 37:\n",
    "    print(\"Pay 00\")\n",
    "else:\n",
    "    print(\"Pay\", value)\n",
    "    \n",
    "# Display the color payout\n",
    "if value % 2 == 0 and (12 <= value <= 18 or 30 <= value <= 36) or \\\n",
    "value % 2 == 1 and (1 <= value <= 9 or 19 <= value <= 27):\n",
    "    print(\"Pay Red\")\n",
    "elif value == 0 or value == 37:\n",
    "    pass\n",
    "else:\n",
    "    print(\"Pay Black\")\n",
    "    \n",
    "# Display the odd vs. even payout\n",
    "if 1 <= value <= 36:\n",
    "    if value % 2 == 0:\n",
    "        print(\"Pay Odd\")\n",
    "    else:\n",
    "        print(\"Pay Even\")\n",
    "        \n",
    "# Display the lower number vs. higher number payout\n",
    "if 1 <= value <=18:\n",
    "    print(\"Pay 1 to 18\")\n",
    "elif 19 <= value <=36:\n",
    "    print(\"Pay 19 to 36\")"
   ]
  }
 ],
 "metadata": {
  "kernelspec": {
   "display_name": "Python 3",
   "language": "python",
   "name": "python3"
  },
  "language_info": {
   "codemirror_mode": {
    "name": "ipython",
    "version": 3
   },
   "file_extension": ".py",
   "mimetype": "text/x-python",
   "name": "python",
   "nbconvert_exporter": "python",
   "pygments_lexer": "ipython3",
   "version": "3.8.8"
  }
 },
 "nbformat": 4,
 "nbformat_minor": 5
}
