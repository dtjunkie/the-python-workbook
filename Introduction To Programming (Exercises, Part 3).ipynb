{
 "cells": [
  {
   "cell_type": "markdown",
   "id": "76b17a9e",
   "metadata": {},
   "source": [
    "# Introduction To Programming (Exercises, Part 3)"
   ]
  },
  {
   "cell_type": "markdown",
   "id": "67c1a0ee",
   "metadata": {},
   "source": [
    "## Exercise 21 -  Area of a Triangle\n",
    "\n",
    "The area of a triangle can be computed using the following formula, where $b$ is the\n",
    "length of the base of the triangle, and $h$ is its height:\n",
    "\n",
    "$$ area = \\frac{b   h}{2} $$\n",
    "\n",
    "Write a program that allows the user to enter values for $b$ and $h$. The program should\n",
    "then compute and display the area of a triangle with base length $b$ and height $h$(13 lines)."
   ]
  },
  {
   "cell_type": "code",
   "execution_count": 2,
   "id": "9fc66a01",
   "metadata": {},
   "outputs": [
    {
     "name": "stdout",
     "output_type": "stream",
     "text": [
      "Enter the base length of the triangle:7.8\n",
      "Enter the height of the triangle:3.16\n",
      "The area of the triangle is: 12.32 sq. units\n"
     ]
    }
   ],
   "source": [
    "# Asks the user to enter the base length and the height\n",
    "b = float(input(\"Enter the base length of the triangle:\"))\n",
    "h = float(input(\"Enter the height of the triangle:\"))\n",
    "\n",
    "# Calculates the area of the triangle\n",
    "a_tri = (b * h)/2\n",
    "\n",
    "# Displays the calculated area of the triangle\n",
    "print(\"The area of the triangle is: %.2f sq. units\" % (a_tri))"
   ]
  },
  {
   "cell_type": "markdown",
   "id": "e49ae672",
   "metadata": {},
   "source": [
    "## Exercise 22 -  Area of a Triangle (Again)\n",
    "\n",
    "In the previous exercise you created a program that computed the area of a triangle\n",
    "when the length of its base and its height were known. It is also possible to compute\n",
    "the area of a triangle when the lengths of all three sides are known. Let s1, s2 and s3\n",
    "be the lengths of the sides. Let $s = (s1 + s2 + s3)/2$. Then the area of the triangle\n",
    "can be calculated using the following formula:\n",
    "\n",
    "$$area = \\sqrt{s  (s-s_1)  (s-s_2)  (s-s_3)}$$\n",
    "\n",
    "Develop a program that reads the lengths of the sides of a triangle from the user and\n",
    "displays its area(16 lines)."
   ]
  },
  {
   "cell_type": "code",
   "execution_count": 3,
   "id": "df894595",
   "metadata": {},
   "outputs": [
    {
     "name": "stdout",
     "output_type": "stream",
     "text": [
      "Enter the first side of the triangle:10\n",
      "Enter the second side of the triangle:15\n",
      "Enter the third side of the triangle:20\n",
      "The area of the triangle is: 72.62 sq. units\n"
     ]
    }
   ],
   "source": [
    "# Imports the square root function from the math module\n",
    "from math import sqrt\n",
    "\n",
    "# Asks the user to enter the lengths of the sides of the triangle\n",
    "s1 = float(input(\"Enter the first side of the triangle:\"))\n",
    "s2 = float(input(\"Enter the second side of the triangle:\"))\n",
    "s3 = float(input(\"Enter the third side of the triangle:\"))\n",
    "\n",
    "# Divide the perimeter of the three sides by 2\n",
    "s = (s1 + s2 + s3)/2\n",
    "\n",
    "# Calculate the area of the triangle\n",
    "a_tri = sqrt(s * (s-s1) * (s-s2) * (s-s3))\n",
    "\n",
    "# Displays the calculated area of the triangle\n",
    "print(\"The area of the triangle is: %.2f sq. units\" % (a_tri))"
   ]
  },
  {
   "cell_type": "markdown",
   "id": "5df8fd7e",
   "metadata": {},
   "source": [
    "## Exercise 23 - Area of a Regular Polygon\n",
    "\n",
    "A polygon is regular if its sides are all the same length and the angles between all of\n",
    "the adjacent sides are equal. The area of a regular polygon can be computed using\n",
    "the following formula, where $s$ is the length of a side and $n$ is the number of sides:\n",
    "\n",
    "$$ area = \\frac{ns^2}{4tan(\\frac{π}{n})}$$\n",
    "\n",
    "Write a program that reads $s$ and $n$ from the user and then displays the area of a\n",
    "regular polygon constructed from these values."
   ]
  },
  {
   "cell_type": "code",
   "execution_count": 4,
   "id": "6118887b",
   "metadata": {},
   "outputs": [
    {
     "name": "stdout",
     "output_type": "stream",
     "text": [
      "Enter the length of the side:10\n",
      "Enter the number of sides:10\n",
      "The area of the regular polygon is: 81.23 sq. units\n"
     ]
    }
   ],
   "source": [
    "# Imports the tangent function from the math module\n",
    "from math import tan, pi\n",
    "\n",
    "# Asks the user to enter the length of the side and the number of sides\n",
    "s = float(input(\"Enter the length of the side:\"))\n",
    "n = int(input(\"Enter the number of sides:\"))\n",
    "\n",
    "# Calculates the area of the regular polygon\n",
    "a_pol = (n * (s ** 2))/4 * tan(pi/n)\n",
    "\n",
    "# Displays the calculated area of the regular polygon\n",
    "print(\"The area of the regular polygon is: %.2f sq. units\" % (a_pol))"
   ]
  },
  {
   "cell_type": "markdown",
   "id": "acaffadf",
   "metadata": {},
   "source": [
    "## Exercise 24: Units of Time\n",
    "\n",
    "Create a program that reads a duration from the user as a number of days, hours,\n",
    "minutes, and seconds. Compute and display the total number of seconds represented\n",
    "by this duration."
   ]
  },
  {
   "cell_type": "code",
   "execution_count": 7,
   "id": "ed29b8bd",
   "metadata": {},
   "outputs": [
    {
     "name": "stdout",
     "output_type": "stream",
     "text": [
      "Enter the number of days:15\n",
      "Enter the number of hours:21\n",
      "Enter the number of minutes:14\n",
      "Enter the number of seconds:35\n",
      "You entered: 15 days, 21 hours, 14 minutes, 35 seconds\n",
      "The duration is: 1372475 seconds\n"
     ]
    }
   ],
   "source": [
    "# Asks the user to input the number of days, hours, minutes, and seconds\n",
    "day = int(input(\"Enter the number of days:\"))\n",
    "hour = int(input(\"Enter the number of hours:\"))\n",
    "minute = int(input(\"Enter the number of minutes:\"))\n",
    "sec = int(input(\"Enter the number of seconds:\"))\n",
    "\n",
    "# Converts the duration in seconds\n",
    "duration = (day * 86400) + (hour * 3600 ) + (minute * 60) + sec\n",
    "\n",
    "# Displays the user's input\n",
    "print(\"You entered:\",day,\"days,\",hour,\"hours,\",minute,\"minutes,\",sec,\"seconds\")\n",
    "\n",
    "# Displays the duration\n",
    "print(\"The duration is:\",duration,\"seconds\")"
   ]
  },
  {
   "cell_type": "markdown",
   "id": "84b5ea5c",
   "metadata": {},
   "source": [
    "## Exercise 25: Units of Time (Again)\n",
    "\n",
    "In this exercise you will reverse the process described in Exercise 24. Develop a\n",
    "program that begins by reading a number of seconds from the user. Then your program\n",
    "should display the equivalent amount of time in the form D:HH:MM:SS, where D,\n",
    "HH,MM,and SS represent days, hours, minutes and seconds respectively. The hours,\n",
    "minutes and seconds should all be formatted so that they occupy exactly two digits.\n",
    "Use your research skills determine what additional character needs to be included in\n",
    "the format specifier so that leading zeros are used instead of leading spaces when a\n",
    "number is formatted to a particular width(24 lines)."
   ]
  },
  {
   "cell_type": "code",
   "execution_count": 68,
   "id": "36ec6f74",
   "metadata": {},
   "outputs": [
    {
     "name": "stdout",
     "output_type": "stream",
     "text": [
      "Enter the number of seconds:4529640\n",
      "The time is: 52:10:14:60\n"
     ]
    }
   ],
   "source": [
    "# Imports the truncation function from the math module\n",
    "from math import trunc\n",
    "\n",
    "# Asks the user to input the number of seconds\n",
    "sec = int(input(\"Enter the number of seconds:\"))\n",
    "\n",
    "# Convert the inputed seconds to the number of days, hours, minutes, and seconds\n",
    "day = sec / 86400\n",
    "hour = (day - trunc(day)) * 24\n",
    "minute = (hour - trunc(hour)) * 60\n",
    "second = (minute - trunc(minute)) * 60\n",
    "\n",
    "# Converts the data type of the hour, minute, and second in to string\n",
    "hour_str = str(trunc(hour))\n",
    "min_str = str(trunc(minute))\n",
    "sec_str = str(round(second))\n",
    "\n",
    "# Use the .zfill method with the parameter set on \"2\" to satisfy the format\n",
    "hour_lz = hour_str.zfill(2)\n",
    "min_lz = min_str.zfill(2)\n",
    "sec_lz = sec_str.zfill(2)\n",
    "\n",
    "# Concatenate the day, hour, minute, and second data\n",
    "time = str(int(day)) + \":\" + hour_lz + \":\" + min_lz + \":\" + sec_lz\n",
    "\n",
    "# Display the days, hours, minutes, and second in the format D:HH:MM:SS\n",
    "print(\"The time is:\",time)\n"
   ]
  },
  {
   "cell_type": "markdown",
   "id": "c342a578",
   "metadata": {},
   "source": [
    "## Exercise 26 - Current Time\n",
    "\n",
    "Python’s time module includes several time-related functions. One of these is the\n",
    "asctime function which reads the current time from the computer’s internal clock\n",
    "and returns it in a human-readable format. Use this function to write a program that\n",
    "displays the current time and date. Your program will not require any input from the\n",
    "user(10 lines)."
   ]
  },
  {
   "cell_type": "code",
   "execution_count": 1,
   "id": "cabc64f4",
   "metadata": {},
   "outputs": [
    {
     "name": "stdout",
     "output_type": "stream",
     "text": [
      "Today is:  Sun Dec 26 16:16:52 2021\n"
     ]
    }
   ],
   "source": [
    "# Imports the Python time module\n",
    "import time\n",
    "\n",
    "# Use the .localtime function and load to variable t\n",
    "t = time.localtime()\n",
    "\n",
    "# Displays the time and date\n",
    "print(\"Today is: \", time.asctime(t))"
   ]
  },
  {
   "cell_type": "markdown",
   "id": "22124098",
   "metadata": {},
   "source": [
    "## Exercise 27 - When is Easter?\n",
    "\n",
    "Easter is celebrated on the Sunday immediately after the first full moon following the\n",
    "spring equinox. Because its date includes a lunar component, Easter does not have\n",
    "a fixed date in the Gregorian calendar. Instead, it can occur on any date between March 22 and April 25. The month and day for Easter can be computed for a given\n",
    "year using the Anonymous Gregorian Computus algorithm, which is shown below.\n",
    "- Set $a$ equal to the remainder when year is divided by 19\n",
    "- Set $b$ equal to the floor of year divided by 100\n",
    "- Set $c$ equal to the remainder when year is divided by 100\n",
    "- Set $d$ equal to the floor of b divided by 4\n",
    "- Set $e$ equal to the remainder when b is divided by 4\n",
    "- Set $f$ equal to the floor of $ \\frac {b + 8}{25} $\n",
    "- Set $g$ equal to the floor of $ \\frac {b − f + 1}{3} $\n",
    "- Set $h$ equal to the remainder when 19a + b − d − g + 15 is divided by 30\n",
    "- Set $i$ equal to the floor of c divided by 4\n",
    "- Set $k$ equal to the remainder when c is divided by 4\n",
    "- Set $l$ equal to the remainder when 32 + 2e + 2i − h − k is divided by 7\n",
    "- Set $m$ equal to the floor of $ \\frac {a + 11h + 22l}{451} $\n",
    "- Set month equal to the floor of $ \\frac {h + l − 7m + 114}{31} $\n",
    "- Set day equal to one plus the remainder when $h$ + $l$ − 7$m$ + 114 is divided by 31\n",
    "\n",
    "Write a program that implements the Anonymous Gregorian Computus algorithm\n",
    "to compute the date of Easter. Your program should read the year from the user and\n",
    "then display a appropriate message that includes the date of Easter in that year (33 lines)."
   ]
  },
  {
   "cell_type": "code",
   "execution_count": 16,
   "id": "078d1fcc",
   "metadata": {},
   "outputs": [
    {
     "name": "stdout",
     "output_type": "stream",
     "text": [
      "Enter the year: 1990\n",
      "Easter date is: April 15, 1990\n"
     ]
    }
   ],
   "source": [
    "# Imports the datetime and strftime function from the datetime module\n",
    "import datetime\n",
    " \n",
    "# Asks the user to enter the year\n",
    "year = int(input(\"Enter the year: \"))\n",
    "\n",
    "# Calculates the month and day will Easter be celebrated in the given year\n",
    "a = year % 19\n",
    "b = year // 100\n",
    "c = year % 100\n",
    "d = b // 4\n",
    "e = b % 4\n",
    "f = (b + 8) // 25\n",
    "g = (b - f + 1) // 3\n",
    "h = ((19 * a) + b - d - g + 15) % 30\n",
    "i = c // 4\n",
    "k = c % 4\n",
    "l = (32 + (2 * e) + (2 * i) - h - k) % 7\n",
    "m = (a + (11 *h) + (22 * l)) // 451\n",
    "month = (h + l - (7 * m) + 114) // 31\n",
    "day = 1 +((h + l - (7 * m) + 114) % 31)\n",
    "\n",
    "# Uses the .datetime function to create the date\n",
    "easter = datetime.datetime(year, month, day)\n",
    "\n",
    "# Displays the month and day will Easter be celebrated in a given year\n",
    "print(\"Easter date is: \" + easter.strftime(\"%B\") + \" \" + easter.strftime(\"%d\") + \", \" +easter.strftime(\"%Y\"))"
   ]
  },
  {
   "cell_type": "markdown",
   "id": "069dcd76",
   "metadata": {},
   "source": [
    "## Exercise 28 -  Body Mass Index\n",
    "\n",
    "Write a program that computes the body mass index (BMI) of an individual. Your\n",
    "program should begin by reading a height and weight from the user. Then it should\n",
    "use one of the following two formulas to compute the BMI before displaying it. If\n",
    "you read the height in inches and the weight in pounds then body mass index is\n",
    "computed using the following formula:\n",
    "\n",
    "$$BMI = \\frac {weight}{height × height} × 703 $$\n",
    "\n",
    "If you read the height in meters and the weight in kilograms then body mass index\n",
    "is computed using this slightly simpler formula:\n",
    "\n",
    "$$BMI = \\frac {weight}{height × height} $$\n",
    "\n",
    "(14 lines)"
   ]
  },
  {
   "cell_type": "code",
   "execution_count": 19,
   "id": "aa39bcb2",
   "metadata": {},
   "outputs": [
    {
     "name": "stdout",
     "output_type": "stream",
     "text": [
      "Enter your height(in inches): 65\n",
      "Enter your weight(in pounds): 120\n",
      "Your Body Mass Index(BMI) is: 19.97 pounds/sq. inch\n"
     ]
    }
   ],
   "source": [
    "# Asks the user to enter his/her height and weight\n",
    "height = float(input(\"Enter your height(in inches): \"))\n",
    "weight = float(input(\"Enter your weight(in pounds): \"))\n",
    "\n",
    "# Calculates the BMI in English units\n",
    "bmi_english = (weight/height ** 2) * 703\n",
    "\n",
    "# Displays the BMI in English units\n",
    "print(\"Your Body Mass Index(BMI) is: %.2f pounds/sq. inch\" % (bmi_english))"
   ]
  },
  {
   "cell_type": "markdown",
   "id": "426c42b4",
   "metadata": {},
   "source": [
    "## Exercise 29 - Wind Chill\n",
    "\n",
    "When the wind blows in cold weather, the air feels even colder than it actually is\n",
    "because the movement of the air increases the rate of cooling for warm objects, like\n",
    "people. This effect is known as wind chill.\n",
    "In 2001, Canada, the United Kingdom and the United States adopted the following formula for computing the wind chill index. Within the formula $T_a$ is the\n",
    "air temperature in degrees Celsius and $V$ is the wind speed in kilometers per hour.\n",
    "A similar formula with different constant values can be used for temperatures in\n",
    "degrees Fahrenheit and wind speeds in miles per hour.\n",
    "\n",
    "$$ WCI = 13.12 + 0.6215T_a − 11.37V^{0.16} + 0.3965T_aV^{0.16} $$\n",
    "\n",
    "Write a program that begins by reading the air temperature and wind speed from the\n",
    "user. Once these values have been read your program should display the wind chill\n",
    "index rounded to the closest integer(22 lines).\n",
    "\n",
    "**The wind chill index is only considered valid for temperatures less than or\n",
    "equal to 10 degrees Celsius and wind speeds exceeding 4.8 kilometers per\n",
    "hour.**"
   ]
  },
  {
   "cell_type": "code",
   "execution_count": 4,
   "id": "e95aea40",
   "metadata": {},
   "outputs": [
    {
     "name": "stdout",
     "output_type": "stream",
     "text": [
      "Enter the air temperature(in Celsius):-15\n",
      "Enter the wind speed(in kph): 10\n",
      "Air temperature: -15\n",
      "Wind speed: 10\n",
      "Wind chill index: -21\n"
     ]
    }
   ],
   "source": [
    "# Asks the user to enter the air temperature and wind speed\n",
    "air_temp = int(input(\"Enter the air temperature(in Celsius):\"))\n",
    "v = int(input(\"Enter the wind speed(in kph): \"))\n",
    "\n",
    "# Calculate the wind chill index\n",
    "wci = 13.12 + (0.6215 * air_temp) - (11.37 * (v ** 0.16)) + (0.3965 * air_temp * (v ** 0.16))\n",
    "\n",
    "# Display the calculated wind chill index\n",
    "print(\"Air temperature:\", air_temp)\n",
    "print(\"Wind speed:\", v)\n",
    "print(\"Wind chill index:\", round(wci))"
   ]
  },
  {
   "cell_type": "markdown",
   "id": "137b4243",
   "metadata": {},
   "source": [
    "## Exercise 30 -  Celsius to Fahrenheit and Kelvin\n",
    "\n",
    "Write a program that begins by reading a temperature from the user in degrees\n",
    "Celsius. Then your program should display the equivalent temperature in degrees\n",
    "Fahrenheit and degrees Kelvin. The calculations needed to convert between different\n",
    "units of temperature can be found on the Internet (17 lines)."
   ]
  },
  {
   "cell_type": "code",
   "execution_count": 5,
   "id": "59edf412",
   "metadata": {},
   "outputs": [
    {
     "name": "stdout",
     "output_type": "stream",
     "text": [
      "Enter the temperature (in Celsius):20\n",
      "Temperature in deg. C: 20\n",
      "Temperature in deg. F: 68.0 Temperature in deg. K: 293.15\n"
     ]
    }
   ],
   "source": [
    "# Asks the user to enter the temperature in Celsius\n",
    "deg_C = int(input(\"Enter the temperature (in Celsius):\"))\n",
    "\n",
    "# Converts the input temperature in Fahrenheit and Kelvin\n",
    "deg_F = deg_C * 1.8 + 32\n",
    "deg_K = deg_C + 273.15\n",
    "\n",
    "# Displays the converted temperature\n",
    "print (\"Temperature in deg. C:\", deg_C)\n",
    "print (\"Temperature in deg. F:\", deg_F, \"Temperature in deg. K:\", deg_K)"
   ]
  }
 ],
 "metadata": {
  "kernelspec": {
   "display_name": "Python 3",
   "language": "python",
   "name": "python3"
  },
  "language_info": {
   "codemirror_mode": {
    "name": "ipython",
    "version": 3
   },
   "file_extension": ".py",
   "mimetype": "text/x-python",
   "name": "python",
   "nbconvert_exporter": "python",
   "pygments_lexer": "ipython3",
   "version": "3.8.8"
  }
 },
 "nbformat": 4,
 "nbformat_minor": 5
}
